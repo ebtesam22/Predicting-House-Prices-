{
 "cells": [
  {
   "cell_type": "markdown",
   "id": "ce9075ea",
   "metadata": {},
   "source": [
    "# Riyadh House Predication:\n"
   ]
  },
  {
   "cell_type": "markdown",
   "id": "711164b3",
   "metadata": {},
   "source": [
    "# Libraries Imports \n"
   ]
  },
  {
   "cell_type": "code",
   "execution_count": 2,
   "id": "e3eb3f5c",
   "metadata": {},
   "outputs": [
    {
     "name": "stdout",
     "output_type": "stream",
     "text": [
      "Populating the interactive namespace from numpy and matplotlib\n"
     ]
    }
   ],
   "source": [
    "# Data Analysis Libs\n",
    "import pandas as pd\n",
    "import numpy as np\n",
    "import matplotlib.pyplot as plt\n",
    "import seaborn as sns\n",
    "\n",
    "\n",
    "%matplotlib inline\n",
    "%pylab inline\n",
    "%config InlineBackend.figure_formats = ['retina']\n",
    "\n",
    "## Necessary imports for Regression\n",
    "from bs4 import BeautifulSoup\n",
    "import requests\n",
    "import time,os\n",
    "import re\n",
    "import statsmodels.api as sm\n",
    "import statsmodels.formula.api as smf\n",
    "from sklearn.linear_model import LinearRegression\n",
    "from sklearn.linear_model import RidgeCV\n",
    "from sklearn.model_selection import train_test_split\n",
    "from sklearn.linear_model import LinearRegression, Lasso, LassoCV, Ridge, RidgeCV\n",
    "from sklearn.metrics import r2_score\n",
    "\n",
    "# Suppress warnings \n",
    "import warnings\n",
    "warnings.filterwarnings('ignore')"
   ]
  },
  {
   "cell_type": "markdown",
   "id": "2df2f17a",
   "metadata": {},
   "source": [
    "# Load Data"
   ]
  },
  {
   "cell_type": "code",
   "execution_count": 29,
   "id": "6eca6606",
   "metadata": {},
   "outputs": [
    {
     "data": {
      "text/html": [
       "<div>\n",
       "<style scoped>\n",
       "    .dataframe tbody tr th:only-of-type {\n",
       "        vertical-align: middle;\n",
       "    }\n",
       "\n",
       "    .dataframe tbody tr th {\n",
       "        vertical-align: top;\n",
       "    }\n",
       "\n",
       "    .dataframe thead th {\n",
       "        text-align: right;\n",
       "    }\n",
       "</style>\n",
       "<table border=\"1\" class=\"dataframe\">\n",
       "  <thead>\n",
       "    <tr style=\"text-align: right;\">\n",
       "      <th></th>\n",
       "      <th>Unnamed: 0</th>\n",
       "      <th>location</th>\n",
       "      <th>price</th>\n",
       "      <th>size</th>\n",
       "      <th>bath</th>\n",
       "      <th>bed</th>\n",
       "      <th>search</th>\n",
       "      <th>page</th>\n",
       "      <th>link</th>\n",
       "    </tr>\n",
       "  </thead>\n",
       "  <tbody>\n",
       "    <tr>\n",
       "      <th>0</th>\n",
       "      <td>0</td>\n",
       "      <td>حي الدار البيضاء - الرياض</td>\n",
       "      <td>750,000 ريال</td>\n",
       "      <td>240 م²</td>\n",
       "      <td>5</td>\n",
       "      <td>7</td>\n",
       "      <td>0</td>\n",
       "      <td>1</td>\n",
       "      <td>https://sa.aqar.fm/%D9%81%D9%84%D9%84-%D9%84%D...</td>\n",
       "    </tr>\n",
       "    <tr>\n",
       "      <th>1</th>\n",
       "      <td>1</td>\n",
       "      <td>حي عكاظ - الرياض</td>\n",
       "      <td>1,100,000 ريال</td>\n",
       "      <td>330 م²</td>\n",
       "      <td>4</td>\n",
       "      <td>5</td>\n",
       "      <td>0</td>\n",
       "      <td>1</td>\n",
       "      <td>https://sa.aqar.fm/%D9%81%D9%84%D9%84-%D9%84%D...</td>\n",
       "    </tr>\n",
       "    <tr>\n",
       "      <th>2</th>\n",
       "      <td>2</td>\n",
       "      <td>حي الدار البيضاء - الرياض</td>\n",
       "      <td>880,000 ريال</td>\n",
       "      <td>230 م²</td>\n",
       "      <td>5</td>\n",
       "      <td>5</td>\n",
       "      <td>0</td>\n",
       "      <td>1</td>\n",
       "      <td>https://sa.aqar.fm/%D9%81%D9%84%D9%84-%D9%84%D...</td>\n",
       "    </tr>\n",
       "    <tr>\n",
       "      <th>3</th>\n",
       "      <td>3</td>\n",
       "      <td>حي قرطبة - الرياض</td>\n",
       "      <td>3,700,000 ريال</td>\n",
       "      <td>428 م²</td>\n",
       "      <td>5</td>\n",
       "      <td>6</td>\n",
       "      <td>0</td>\n",
       "      <td>1</td>\n",
       "      <td>https://sa.aqar.fm/%D9%81%D9%84%D9%84-%D9%84%D...</td>\n",
       "    </tr>\n",
       "    <tr>\n",
       "      <th>4</th>\n",
       "      <td>4</td>\n",
       "      <td>حي الياسمين - الرياض</td>\n",
       "      <td>7,900,000 ريال</td>\n",
       "      <td>870 م²</td>\n",
       "      <td>5</td>\n",
       "      <td>7</td>\n",
       "      <td>0</td>\n",
       "      <td>1</td>\n",
       "      <td>https://sa.aqar.fm/%D9%81%D9%84%D9%84-%D9%84%D...</td>\n",
       "    </tr>\n",
       "  </tbody>\n",
       "</table>\n",
       "</div>"
      ],
      "text/plain": [
       "   Unnamed: 0                      location           price    size  bath  \\\n",
       "0           0     حي الدار البيضاء - الرياض    750,000 ريال  240 م²     5   \n",
       "1           1              حي عكاظ - الرياض  1,100,000 ريال  330 م²     4   \n",
       "2           2     حي الدار البيضاء - الرياض    880,000 ريال  230 م²     5   \n",
       "3           3             حي قرطبة - الرياض  3,700,000 ريال  428 م²     5   \n",
       "4           4          حي الياسمين - الرياض  7,900,000 ريال  870 م²     5   \n",
       "\n",
       "   bed  search  page                                               link  \n",
       "0    7       0     1  https://sa.aqar.fm/%D9%81%D9%84%D9%84-%D9%84%D...  \n",
       "1    5       0     1  https://sa.aqar.fm/%D9%81%D9%84%D9%84-%D9%84%D...  \n",
       "2    5       0     1  https://sa.aqar.fm/%D9%81%D9%84%D9%84-%D9%84%D...  \n",
       "3    6       0     1  https://sa.aqar.fm/%D9%81%D9%84%D9%84-%D9%84%D...  \n",
       "4    7       0     1  https://sa.aqar.fm/%D9%81%D9%84%D9%84-%D9%84%D...  "
      ]
     },
     "execution_count": 29,
     "metadata": {},
     "output_type": "execute_result"
    }
   ],
   "source": [
    "# load data\n",
    "df = pd.read_csv(\"Aqar11.csv\") \n",
    "\n",
    "# Take a look at the first few rows\n",
    "df.head() "
   ]
  },
  {
   "cell_type": "code",
   "execution_count": 30,
   "id": "0300d764",
   "metadata": {},
   "outputs": [
    {
     "name": "stdout",
     "output_type": "stream",
     "text": [
      "<class 'pandas.core.frame.DataFrame'>\n",
      "RangeIndex: 1575 entries, 0 to 1574\n",
      "Data columns (total 9 columns):\n",
      " #   Column      Non-Null Count  Dtype \n",
      "---  ------      --------------  ----- \n",
      " 0   Unnamed: 0  1575 non-null   int64 \n",
      " 1   location    1575 non-null   object\n",
      " 2   price       1575 non-null   object\n",
      " 3   size        1575 non-null   object\n",
      " 4   bath        1575 non-null   int64 \n",
      " 5   bed         1575 non-null   int64 \n",
      " 6   search      1575 non-null   int64 \n",
      " 7   page        1575 non-null   int64 \n",
      " 8   link        1575 non-null   object\n",
      "dtypes: int64(5), object(4)\n",
      "memory usage: 110.9+ KB\n"
     ]
    }
   ],
   "source": [
    " # Take a look at the datatypes\n",
    "df.info()"
   ]
  },
  {
   "cell_type": "code",
   "execution_count": 31,
   "id": "9fd8165b",
   "metadata": {},
   "outputs": [
    {
     "data": {
      "text/html": [
       "<div>\n",
       "<style scoped>\n",
       "    .dataframe tbody tr th:only-of-type {\n",
       "        vertical-align: middle;\n",
       "    }\n",
       "\n",
       "    .dataframe tbody tr th {\n",
       "        vertical-align: top;\n",
       "    }\n",
       "\n",
       "    .dataframe thead th {\n",
       "        text-align: right;\n",
       "    }\n",
       "</style>\n",
       "<table border=\"1\" class=\"dataframe\">\n",
       "  <thead>\n",
       "    <tr style=\"text-align: right;\">\n",
       "      <th></th>\n",
       "      <th>Unnamed: 0</th>\n",
       "      <th>bath</th>\n",
       "      <th>bed</th>\n",
       "      <th>search</th>\n",
       "      <th>page</th>\n",
       "    </tr>\n",
       "  </thead>\n",
       "  <tbody>\n",
       "    <tr>\n",
       "      <th>count</th>\n",
       "      <td>1575.000000</td>\n",
       "      <td>1575.000000</td>\n",
       "      <td>1575.000000</td>\n",
       "      <td>1575.0</td>\n",
       "      <td>1575.000000</td>\n",
       "    </tr>\n",
       "    <tr>\n",
       "      <th>mean</th>\n",
       "      <td>10.000000</td>\n",
       "      <td>4.631746</td>\n",
       "      <td>4.909841</td>\n",
       "      <td>0.0</td>\n",
       "      <td>38.000000</td>\n",
       "    </tr>\n",
       "    <tr>\n",
       "      <th>std</th>\n",
       "      <td>6.057224</td>\n",
       "      <td>0.736769</td>\n",
       "      <td>1.161976</td>\n",
       "      <td>0.0</td>\n",
       "      <td>21.655586</td>\n",
       "    </tr>\n",
       "    <tr>\n",
       "      <th>min</th>\n",
       "      <td>0.000000</td>\n",
       "      <td>1.000000</td>\n",
       "      <td>1.000000</td>\n",
       "      <td>0.0</td>\n",
       "      <td>1.000000</td>\n",
       "    </tr>\n",
       "    <tr>\n",
       "      <th>25%</th>\n",
       "      <td>5.000000</td>\n",
       "      <td>5.000000</td>\n",
       "      <td>4.000000</td>\n",
       "      <td>0.0</td>\n",
       "      <td>19.000000</td>\n",
       "    </tr>\n",
       "    <tr>\n",
       "      <th>50%</th>\n",
       "      <td>10.000000</td>\n",
       "      <td>5.000000</td>\n",
       "      <td>5.000000</td>\n",
       "      <td>0.0</td>\n",
       "      <td>38.000000</td>\n",
       "    </tr>\n",
       "    <tr>\n",
       "      <th>75%</th>\n",
       "      <td>15.000000</td>\n",
       "      <td>5.000000</td>\n",
       "      <td>5.000000</td>\n",
       "      <td>0.0</td>\n",
       "      <td>57.000000</td>\n",
       "    </tr>\n",
       "    <tr>\n",
       "      <th>max</th>\n",
       "      <td>20.000000</td>\n",
       "      <td>5.000000</td>\n",
       "      <td>7.000000</td>\n",
       "      <td>0.0</td>\n",
       "      <td>75.000000</td>\n",
       "    </tr>\n",
       "  </tbody>\n",
       "</table>\n",
       "</div>"
      ],
      "text/plain": [
       "        Unnamed: 0         bath          bed  search         page\n",
       "count  1575.000000  1575.000000  1575.000000  1575.0  1575.000000\n",
       "mean     10.000000     4.631746     4.909841     0.0    38.000000\n",
       "std       6.057224     0.736769     1.161976     0.0    21.655586\n",
       "min       0.000000     1.000000     1.000000     0.0     1.000000\n",
       "25%       5.000000     5.000000     4.000000     0.0    19.000000\n",
       "50%      10.000000     5.000000     5.000000     0.0    38.000000\n",
       "75%      15.000000     5.000000     5.000000     0.0    57.000000\n",
       "max      20.000000     5.000000     7.000000     0.0    75.000000"
      ]
     },
     "execution_count": 31,
     "metadata": {},
     "output_type": "execute_result"
    }
   ],
   "source": [
    "# describe Statistical Data\n",
    "df.describe()"
   ]
  },
  {
   "cell_type": "code",
   "execution_count": 32,
   "id": "f8ee33eb",
   "metadata": {},
   "outputs": [
    {
     "data": {
      "text/plain": [
       "(1575, 9)"
      ]
     },
     "execution_count": 32,
     "metadata": {},
     "output_type": "execute_result"
    }
   ],
   "source": [
    "# How many rows and columns does the dataset have?\n",
    "df.shape "
   ]
  },
  {
   "cell_type": "code",
   "execution_count": 33,
   "id": "955c94ef",
   "metadata": {},
   "outputs": [
    {
     "data": {
      "text/plain": [
       "Index(['Unnamed: 0', 'location', 'price', 'size', 'bath', 'bed', 'search',\n",
       "       'page', 'link'],\n",
       "      dtype='object')"
      ]
     },
     "execution_count": 33,
     "metadata": {},
     "output_type": "execute_result"
    }
   ],
   "source": [
    "#look at the column names\n",
    "df.columns "
   ]
  },
  {
   "cell_type": "code",
   "execution_count": 34,
   "id": "2dcf8dbf",
   "metadata": {},
   "outputs": [
    {
     "data": {
      "text/plain": [
       "Index(['Unnamed: 0', 'location', 'price', 'size', 'bath', 'bed', 'search',\n",
       "       'page', 'link'],\n",
       "      dtype='object')"
      ]
     },
     "execution_count": 34,
     "metadata": {},
     "output_type": "execute_result"
    }
   ],
   "source": [
    "#The map function is applied to Series objects???\n",
    "df.columns = df.columns.map(str.strip) \n",
    "df.columns"
   ]
  },
  {
   "cell_type": "code",
   "execution_count": 35,
   "id": "57ae9eac",
   "metadata": {},
   "outputs": [
    {
     "data": {
      "text/plain": [
       "   حي طويق - الرياض             294\n",
       "   حي الرمال - الرياض           177\n",
       "   حي الدار البيضاء - الرياض    126\n",
       "   حي بدر - الرياض               78\n",
       "   حي عكاظ - الرياض              75\n",
       "                               ... \n",
       "   حي النزهة - الرياض             1\n",
       "   حي عريض - الرياض               1\n",
       "   حي غرناطة - الرياض             1\n",
       "   حي المؤتمرات - الرياض          1\n",
       "   حي السليمانية - الرياض         1\n",
       "Name: location, Length: 94, dtype: int64"
      ]
     },
     "execution_count": 35,
     "metadata": {},
     "output_type": "execute_result"
    }
   ],
   "source": [
    "#value counts\n",
    "df[\"location\"].value_counts()"
   ]
  },
  {
   "cell_type": "markdown",
   "id": "069e9243",
   "metadata": {},
   "source": [
    "# Data Formating and cleaning"
   ]
  },
  {
   "cell_type": "code",
   "execution_count": 36,
   "id": "1ce8a4ff",
   "metadata": {},
   "outputs": [
    {
     "data": {
      "text/html": [
       "<div>\n",
       "<style scoped>\n",
       "    .dataframe tbody tr th:only-of-type {\n",
       "        vertical-align: middle;\n",
       "    }\n",
       "\n",
       "    .dataframe tbody tr th {\n",
       "        vertical-align: top;\n",
       "    }\n",
       "\n",
       "    .dataframe thead th {\n",
       "        text-align: right;\n",
       "    }\n",
       "</style>\n",
       "<table border=\"1\" class=\"dataframe\">\n",
       "  <thead>\n",
       "    <tr style=\"text-align: right;\">\n",
       "      <th></th>\n",
       "      <th>UNNAMED: 0</th>\n",
       "      <th>LOCATION</th>\n",
       "      <th>PRICE</th>\n",
       "      <th>SIZE</th>\n",
       "      <th>BATH</th>\n",
       "      <th>BED</th>\n",
       "      <th>SEARCH</th>\n",
       "      <th>PAGE</th>\n",
       "      <th>LINK</th>\n",
       "    </tr>\n",
       "  </thead>\n",
       "  <tbody>\n",
       "    <tr>\n",
       "      <th>0</th>\n",
       "      <td>0</td>\n",
       "      <td>حي الدار البيضاء - الرياض</td>\n",
       "      <td>750,000 ريال</td>\n",
       "      <td>240 م²</td>\n",
       "      <td>5</td>\n",
       "      <td>7</td>\n",
       "      <td>0</td>\n",
       "      <td>1</td>\n",
       "      <td>https://sa.aqar.fm/%D9%81%D9%84%D9%84-%D9%84%D...</td>\n",
       "    </tr>\n",
       "    <tr>\n",
       "      <th>1</th>\n",
       "      <td>1</td>\n",
       "      <td>حي عكاظ - الرياض</td>\n",
       "      <td>1,100,000 ريال</td>\n",
       "      <td>330 م²</td>\n",
       "      <td>4</td>\n",
       "      <td>5</td>\n",
       "      <td>0</td>\n",
       "      <td>1</td>\n",
       "      <td>https://sa.aqar.fm/%D9%81%D9%84%D9%84-%D9%84%D...</td>\n",
       "    </tr>\n",
       "    <tr>\n",
       "      <th>2</th>\n",
       "      <td>2</td>\n",
       "      <td>حي الدار البيضاء - الرياض</td>\n",
       "      <td>880,000 ريال</td>\n",
       "      <td>230 م²</td>\n",
       "      <td>5</td>\n",
       "      <td>5</td>\n",
       "      <td>0</td>\n",
       "      <td>1</td>\n",
       "      <td>https://sa.aqar.fm/%D9%81%D9%84%D9%84-%D9%84%D...</td>\n",
       "    </tr>\n",
       "    <tr>\n",
       "      <th>3</th>\n",
       "      <td>3</td>\n",
       "      <td>حي قرطبة - الرياض</td>\n",
       "      <td>3,700,000 ريال</td>\n",
       "      <td>428 م²</td>\n",
       "      <td>5</td>\n",
       "      <td>6</td>\n",
       "      <td>0</td>\n",
       "      <td>1</td>\n",
       "      <td>https://sa.aqar.fm/%D9%81%D9%84%D9%84-%D9%84%D...</td>\n",
       "    </tr>\n",
       "    <tr>\n",
       "      <th>4</th>\n",
       "      <td>4</td>\n",
       "      <td>حي الياسمين - الرياض</td>\n",
       "      <td>7,900,000 ريال</td>\n",
       "      <td>870 م²</td>\n",
       "      <td>5</td>\n",
       "      <td>7</td>\n",
       "      <td>0</td>\n",
       "      <td>1</td>\n",
       "      <td>https://sa.aqar.fm/%D9%81%D9%84%D9%84-%D9%84%D...</td>\n",
       "    </tr>\n",
       "    <tr>\n",
       "      <th>...</th>\n",
       "      <td>...</td>\n",
       "      <td>...</td>\n",
       "      <td>...</td>\n",
       "      <td>...</td>\n",
       "      <td>...</td>\n",
       "      <td>...</td>\n",
       "      <td>...</td>\n",
       "      <td>...</td>\n",
       "      <td>...</td>\n",
       "    </tr>\n",
       "    <tr>\n",
       "      <th>1570</th>\n",
       "      <td>16</td>\n",
       "      <td>حي حطين - الرياض</td>\n",
       "      <td>3,700,000 ريال</td>\n",
       "      <td>375 م²</td>\n",
       "      <td>5</td>\n",
       "      <td>5</td>\n",
       "      <td>0</td>\n",
       "      <td>75</td>\n",
       "      <td>https://sa.aqar.fm/%D9%81%D9%84%D9%84-%D9%84%D...</td>\n",
       "    </tr>\n",
       "    <tr>\n",
       "      <th>1571</th>\n",
       "      <td>17</td>\n",
       "      <td>حي الحزم - الرياض</td>\n",
       "      <td>1,400,000 ريال</td>\n",
       "      <td>456 م²</td>\n",
       "      <td>5</td>\n",
       "      <td>7</td>\n",
       "      <td>0</td>\n",
       "      <td>75</td>\n",
       "      <td>https://sa.aqar.fm/%D9%81%D9%84%D9%84-%D9%84%D...</td>\n",
       "    </tr>\n",
       "    <tr>\n",
       "      <th>1572</th>\n",
       "      <td>18</td>\n",
       "      <td>حي المروج - الرياض</td>\n",
       "      <td>8,000,000 ريال</td>\n",
       "      <td>1144 م²</td>\n",
       "      <td>5</td>\n",
       "      <td>5</td>\n",
       "      <td>0</td>\n",
       "      <td>75</td>\n",
       "      <td>https://sa.aqar.fm/%D9%81%D9%84%D9%84-%D9%84%D...</td>\n",
       "    </tr>\n",
       "    <tr>\n",
       "      <th>1573</th>\n",
       "      <td>19</td>\n",
       "      <td>حي بدر - الرياض</td>\n",
       "      <td>1,300,000 ريال</td>\n",
       "      <td>360 م²</td>\n",
       "      <td>5</td>\n",
       "      <td>1</td>\n",
       "      <td>0</td>\n",
       "      <td>75</td>\n",
       "      <td>https://sa.aqar.fm/%D9%81%D9%84%D9%84-%D9%84%D...</td>\n",
       "    </tr>\n",
       "    <tr>\n",
       "      <th>1574</th>\n",
       "      <td>20</td>\n",
       "      <td>حي الحزم - الرياض</td>\n",
       "      <td>1,300,000 ريال</td>\n",
       "      <td>312 م²</td>\n",
       "      <td>5</td>\n",
       "      <td>5</td>\n",
       "      <td>0</td>\n",
       "      <td>75</td>\n",
       "      <td>https://sa.aqar.fm/%D9%81%D9%84%D9%84-%D9%84%D...</td>\n",
       "    </tr>\n",
       "  </tbody>\n",
       "</table>\n",
       "<p>1575 rows × 9 columns</p>\n",
       "</div>"
      ],
      "text/plain": [
       "      UNNAMED: 0                      LOCATION           PRICE     SIZE  BATH  \\\n",
       "0              0     حي الدار البيضاء - الرياض    750,000 ريال   240 م²     5   \n",
       "1              1              حي عكاظ - الرياض  1,100,000 ريال   330 م²     4   \n",
       "2              2     حي الدار البيضاء - الرياض    880,000 ريال   230 م²     5   \n",
       "3              3             حي قرطبة - الرياض  3,700,000 ريال   428 م²     5   \n",
       "4              4          حي الياسمين - الرياض  7,900,000 ريال   870 م²     5   \n",
       "...          ...                           ...             ...      ...   ...   \n",
       "1570          16              حي حطين - الرياض  3,700,000 ريال   375 م²     5   \n",
       "1571          17             حي الحزم - الرياض  1,400,000 ريال   456 م²     5   \n",
       "1572          18            حي المروج - الرياض  8,000,000 ريال  1144 م²     5   \n",
       "1573          19               حي بدر - الرياض  1,300,000 ريال   360 م²     5   \n",
       "1574          20             حي الحزم - الرياض  1,300,000 ريال   312 م²     5   \n",
       "\n",
       "      BED  SEARCH  PAGE                                               LINK  \n",
       "0       7       0     1  https://sa.aqar.fm/%D9%81%D9%84%D9%84-%D9%84%D...  \n",
       "1       5       0     1  https://sa.aqar.fm/%D9%81%D9%84%D9%84-%D9%84%D...  \n",
       "2       5       0     1  https://sa.aqar.fm/%D9%81%D9%84%D9%84-%D9%84%D...  \n",
       "3       6       0     1  https://sa.aqar.fm/%D9%81%D9%84%D9%84-%D9%84%D...  \n",
       "4       7       0     1  https://sa.aqar.fm/%D9%81%D9%84%D9%84-%D9%84%D...  \n",
       "...   ...     ...   ...                                                ...  \n",
       "1570    5       0    75  https://sa.aqar.fm/%D9%81%D9%84%D9%84-%D9%84%D...  \n",
       "1571    7       0    75  https://sa.aqar.fm/%D9%81%D9%84%D9%84-%D9%84%D...  \n",
       "1572    5       0    75  https://sa.aqar.fm/%D9%81%D9%84%D9%84-%D9%84%D...  \n",
       "1573    1       0    75  https://sa.aqar.fm/%D9%81%D9%84%D9%84-%D9%84%D...  \n",
       "1574    5       0    75  https://sa.aqar.fm/%D9%81%D9%84%D9%84-%D9%84%D...  \n",
       "\n",
       "[1575 rows x 9 columns]"
      ]
     },
     "execution_count": 36,
     "metadata": {},
     "output_type": "execute_result"
    }
   ],
   "source": [
    "#Convert Column name to Upper case\n",
    "df.columns=df.columns.str.upper()\n",
    "df"
   ]
  },
  {
   "cell_type": "code",
   "execution_count": 37,
   "id": "4dd22d1b",
   "metadata": {},
   "outputs": [
    {
     "data": {
      "text/html": [
       "<div>\n",
       "<style scoped>\n",
       "    .dataframe tbody tr th:only-of-type {\n",
       "        vertical-align: middle;\n",
       "    }\n",
       "\n",
       "    .dataframe tbody tr th {\n",
       "        vertical-align: top;\n",
       "    }\n",
       "\n",
       "    .dataframe thead th {\n",
       "        text-align: right;\n",
       "    }\n",
       "</style>\n",
       "<table border=\"1\" class=\"dataframe\">\n",
       "  <thead>\n",
       "    <tr style=\"text-align: right;\">\n",
       "      <th></th>\n",
       "      <th>UNNAMED: 0</th>\n",
       "      <th>LOCATION</th>\n",
       "      <th>PRICE</th>\n",
       "      <th>SIZE</th>\n",
       "      <th>BATH</th>\n",
       "      <th>BED</th>\n",
       "      <th>SEARCH</th>\n",
       "      <th>PAGE</th>\n",
       "      <th>LINK</th>\n",
       "    </tr>\n",
       "  </thead>\n",
       "  <tbody>\n",
       "    <tr>\n",
       "      <th>0</th>\n",
       "      <td>False</td>\n",
       "      <td>False</td>\n",
       "      <td>False</td>\n",
       "      <td>False</td>\n",
       "      <td>False</td>\n",
       "      <td>False</td>\n",
       "      <td>False</td>\n",
       "      <td>False</td>\n",
       "      <td>False</td>\n",
       "    </tr>\n",
       "    <tr>\n",
       "      <th>1</th>\n",
       "      <td>False</td>\n",
       "      <td>False</td>\n",
       "      <td>False</td>\n",
       "      <td>False</td>\n",
       "      <td>False</td>\n",
       "      <td>False</td>\n",
       "      <td>False</td>\n",
       "      <td>False</td>\n",
       "      <td>False</td>\n",
       "    </tr>\n",
       "    <tr>\n",
       "      <th>2</th>\n",
       "      <td>False</td>\n",
       "      <td>False</td>\n",
       "      <td>False</td>\n",
       "      <td>False</td>\n",
       "      <td>False</td>\n",
       "      <td>False</td>\n",
       "      <td>False</td>\n",
       "      <td>False</td>\n",
       "      <td>False</td>\n",
       "    </tr>\n",
       "    <tr>\n",
       "      <th>3</th>\n",
       "      <td>False</td>\n",
       "      <td>False</td>\n",
       "      <td>False</td>\n",
       "      <td>False</td>\n",
       "      <td>False</td>\n",
       "      <td>False</td>\n",
       "      <td>False</td>\n",
       "      <td>False</td>\n",
       "      <td>False</td>\n",
       "    </tr>\n",
       "    <tr>\n",
       "      <th>4</th>\n",
       "      <td>False</td>\n",
       "      <td>False</td>\n",
       "      <td>False</td>\n",
       "      <td>False</td>\n",
       "      <td>False</td>\n",
       "      <td>False</td>\n",
       "      <td>False</td>\n",
       "      <td>False</td>\n",
       "      <td>False</td>\n",
       "    </tr>\n",
       "    <tr>\n",
       "      <th>...</th>\n",
       "      <td>...</td>\n",
       "      <td>...</td>\n",
       "      <td>...</td>\n",
       "      <td>...</td>\n",
       "      <td>...</td>\n",
       "      <td>...</td>\n",
       "      <td>...</td>\n",
       "      <td>...</td>\n",
       "      <td>...</td>\n",
       "    </tr>\n",
       "    <tr>\n",
       "      <th>1570</th>\n",
       "      <td>False</td>\n",
       "      <td>False</td>\n",
       "      <td>False</td>\n",
       "      <td>False</td>\n",
       "      <td>False</td>\n",
       "      <td>False</td>\n",
       "      <td>False</td>\n",
       "      <td>False</td>\n",
       "      <td>False</td>\n",
       "    </tr>\n",
       "    <tr>\n",
       "      <th>1571</th>\n",
       "      <td>False</td>\n",
       "      <td>False</td>\n",
       "      <td>False</td>\n",
       "      <td>False</td>\n",
       "      <td>False</td>\n",
       "      <td>False</td>\n",
       "      <td>False</td>\n",
       "      <td>False</td>\n",
       "      <td>False</td>\n",
       "    </tr>\n",
       "    <tr>\n",
       "      <th>1572</th>\n",
       "      <td>False</td>\n",
       "      <td>False</td>\n",
       "      <td>False</td>\n",
       "      <td>False</td>\n",
       "      <td>False</td>\n",
       "      <td>False</td>\n",
       "      <td>False</td>\n",
       "      <td>False</td>\n",
       "      <td>False</td>\n",
       "    </tr>\n",
       "    <tr>\n",
       "      <th>1573</th>\n",
       "      <td>False</td>\n",
       "      <td>False</td>\n",
       "      <td>False</td>\n",
       "      <td>False</td>\n",
       "      <td>False</td>\n",
       "      <td>False</td>\n",
       "      <td>False</td>\n",
       "      <td>False</td>\n",
       "      <td>False</td>\n",
       "    </tr>\n",
       "    <tr>\n",
       "      <th>1574</th>\n",
       "      <td>False</td>\n",
       "      <td>False</td>\n",
       "      <td>False</td>\n",
       "      <td>False</td>\n",
       "      <td>False</td>\n",
       "      <td>False</td>\n",
       "      <td>False</td>\n",
       "      <td>False</td>\n",
       "      <td>False</td>\n",
       "    </tr>\n",
       "  </tbody>\n",
       "</table>\n",
       "<p>1575 rows × 9 columns</p>\n",
       "</div>"
      ],
      "text/plain": [
       "      UNNAMED: 0  LOCATION  PRICE   SIZE   BATH    BED  SEARCH   PAGE   LINK\n",
       "0          False     False  False  False  False  False   False  False  False\n",
       "1          False     False  False  False  False  False   False  False  False\n",
       "2          False     False  False  False  False  False   False  False  False\n",
       "3          False     False  False  False  False  False   False  False  False\n",
       "4          False     False  False  False  False  False   False  False  False\n",
       "...          ...       ...    ...    ...    ...    ...     ...    ...    ...\n",
       "1570       False     False  False  False  False  False   False  False  False\n",
       "1571       False     False  False  False  False  False   False  False  False\n",
       "1572       False     False  False  False  False  False   False  False  False\n",
       "1573       False     False  False  False  False  False   False  False  False\n",
       "1574       False     False  False  False  False  False   False  False  False\n",
       "\n",
       "[1575 rows x 9 columns]"
      ]
     },
     "execution_count": 37,
     "metadata": {},
     "output_type": "execute_result"
    }
   ],
   "source": [
    "#we can see there are no null values\n",
    "df.isna()"
   ]
  },
  {
   "cell_type": "code",
   "execution_count": 38,
   "id": "c5cc7ba9",
   "metadata": {},
   "outputs": [
    {
     "data": {
      "text/html": [
       "<div>\n",
       "<style scoped>\n",
       "    .dataframe tbody tr th:only-of-type {\n",
       "        vertical-align: middle;\n",
       "    }\n",
       "\n",
       "    .dataframe tbody tr th {\n",
       "        vertical-align: top;\n",
       "    }\n",
       "\n",
       "    .dataframe thead th {\n",
       "        text-align: right;\n",
       "    }\n",
       "</style>\n",
       "<table border=\"1\" class=\"dataframe\">\n",
       "  <thead>\n",
       "    <tr style=\"text-align: right;\">\n",
       "      <th></th>\n",
       "      <th>UNNAMED: 0</th>\n",
       "      <th>LOCATION</th>\n",
       "      <th>PRICE</th>\n",
       "      <th>SIZE</th>\n",
       "      <th>BATH</th>\n",
       "      <th>BED</th>\n",
       "      <th>SEARCH</th>\n",
       "      <th>PAGE</th>\n",
       "      <th>LINK</th>\n",
       "    </tr>\n",
       "  </thead>\n",
       "  <tbody>\n",
       "    <tr>\n",
       "      <th>0</th>\n",
       "      <td>0</td>\n",
       "      <td>حي الدار البيضاء</td>\n",
       "      <td>750,000 ريال</td>\n",
       "      <td>240 م²</td>\n",
       "      <td>5</td>\n",
       "      <td>7</td>\n",
       "      <td>0</td>\n",
       "      <td>1</td>\n",
       "      <td>https://sa.aqar.fm/%D9%81%D9%84%D9%84-%D9%84%D...</td>\n",
       "    </tr>\n",
       "    <tr>\n",
       "      <th>1</th>\n",
       "      <td>1</td>\n",
       "      <td>حي عكاظ</td>\n",
       "      <td>1,100,000 ريال</td>\n",
       "      <td>330 م²</td>\n",
       "      <td>4</td>\n",
       "      <td>5</td>\n",
       "      <td>0</td>\n",
       "      <td>1</td>\n",
       "      <td>https://sa.aqar.fm/%D9%81%D9%84%D9%84-%D9%84%D...</td>\n",
       "    </tr>\n",
       "    <tr>\n",
       "      <th>2</th>\n",
       "      <td>2</td>\n",
       "      <td>حي الدار البيضاء</td>\n",
       "      <td>880,000 ريال</td>\n",
       "      <td>230 م²</td>\n",
       "      <td>5</td>\n",
       "      <td>5</td>\n",
       "      <td>0</td>\n",
       "      <td>1</td>\n",
       "      <td>https://sa.aqar.fm/%D9%81%D9%84%D9%84-%D9%84%D...</td>\n",
       "    </tr>\n",
       "    <tr>\n",
       "      <th>3</th>\n",
       "      <td>3</td>\n",
       "      <td>حي قرطبة</td>\n",
       "      <td>3,700,000 ريال</td>\n",
       "      <td>428 م²</td>\n",
       "      <td>5</td>\n",
       "      <td>6</td>\n",
       "      <td>0</td>\n",
       "      <td>1</td>\n",
       "      <td>https://sa.aqar.fm/%D9%81%D9%84%D9%84-%D9%84%D...</td>\n",
       "    </tr>\n",
       "    <tr>\n",
       "      <th>4</th>\n",
       "      <td>4</td>\n",
       "      <td>حي الياسمين</td>\n",
       "      <td>7,900,000 ريال</td>\n",
       "      <td>870 م²</td>\n",
       "      <td>5</td>\n",
       "      <td>7</td>\n",
       "      <td>0</td>\n",
       "      <td>1</td>\n",
       "      <td>https://sa.aqar.fm/%D9%81%D9%84%D9%84-%D9%84%D...</td>\n",
       "    </tr>\n",
       "  </tbody>\n",
       "</table>\n",
       "</div>"
      ],
      "text/plain": [
       "   UNNAMED: 0               LOCATION           PRICE    SIZE  BATH  BED  \\\n",
       "0           0     حي الدار البيضاء      750,000 ريال  240 م²     5    7   \n",
       "1           1              حي عكاظ    1,100,000 ريال  330 م²     4    5   \n",
       "2           2     حي الدار البيضاء      880,000 ريال  230 م²     5    5   \n",
       "3           3             حي قرطبة    3,700,000 ريال  428 م²     5    6   \n",
       "4           4          حي الياسمين    7,900,000 ريال  870 م²     5    7   \n",
       "\n",
       "   SEARCH  PAGE                                               LINK  \n",
       "0       0     1  https://sa.aqar.fm/%D9%81%D9%84%D9%84-%D9%84%D...  \n",
       "1       0     1  https://sa.aqar.fm/%D9%81%D9%84%D9%84-%D9%84%D...  \n",
       "2       0     1  https://sa.aqar.fm/%D9%81%D9%84%D9%84-%D9%84%D...  \n",
       "3       0     1  https://sa.aqar.fm/%D9%81%D9%84%D9%84-%D9%84%D...  \n",
       "4       0     1  https://sa.aqar.fm/%D9%81%D9%84%D9%84-%D9%84%D...  "
      ]
     },
     "execution_count": 38,
     "metadata": {},
     "output_type": "execute_result"
    }
   ],
   "source": [
    "#Remove word \"الرياض\" from Colums\n",
    "df[\"LOCATION\"]=df[\"LOCATION\"].str.replace(\"-\",\"\").str.replace(\"الرياض\",\"\")\n",
    "df.head()"
   ]
  },
  {
   "cell_type": "code",
   "execution_count": 39,
   "id": "f1c91e42",
   "metadata": {},
   "outputs": [
    {
     "data": {
      "text/html": [
       "<div>\n",
       "<style scoped>\n",
       "    .dataframe tbody tr th:only-of-type {\n",
       "        vertical-align: middle;\n",
       "    }\n",
       "\n",
       "    .dataframe tbody tr th {\n",
       "        vertical-align: top;\n",
       "    }\n",
       "\n",
       "    .dataframe thead th {\n",
       "        text-align: right;\n",
       "    }\n",
       "</style>\n",
       "<table border=\"1\" class=\"dataframe\">\n",
       "  <thead>\n",
       "    <tr style=\"text-align: right;\">\n",
       "      <th></th>\n",
       "      <th>UNNAMED: 0</th>\n",
       "      <th>LOCATION</th>\n",
       "      <th>PRICE</th>\n",
       "      <th>SIZE</th>\n",
       "      <th>BATH</th>\n",
       "      <th>BED</th>\n",
       "      <th>SEARCH</th>\n",
       "      <th>PAGE</th>\n",
       "      <th>LINK</th>\n",
       "    </tr>\n",
       "  </thead>\n",
       "  <tbody>\n",
       "    <tr>\n",
       "      <th>0</th>\n",
       "      <td>0</td>\n",
       "      <td>حي الدار البيضاء</td>\n",
       "      <td>750000</td>\n",
       "      <td>240 م²</td>\n",
       "      <td>5</td>\n",
       "      <td>7</td>\n",
       "      <td>0</td>\n",
       "      <td>1</td>\n",
       "      <td>https://sa.aqar.fm/%D9%81%D9%84%D9%84-%D9%84%D...</td>\n",
       "    </tr>\n",
       "    <tr>\n",
       "      <th>1</th>\n",
       "      <td>1</td>\n",
       "      <td>حي عكاظ</td>\n",
       "      <td>1100000</td>\n",
       "      <td>330 م²</td>\n",
       "      <td>4</td>\n",
       "      <td>5</td>\n",
       "      <td>0</td>\n",
       "      <td>1</td>\n",
       "      <td>https://sa.aqar.fm/%D9%81%D9%84%D9%84-%D9%84%D...</td>\n",
       "    </tr>\n",
       "    <tr>\n",
       "      <th>2</th>\n",
       "      <td>2</td>\n",
       "      <td>حي الدار البيضاء</td>\n",
       "      <td>880000</td>\n",
       "      <td>230 م²</td>\n",
       "      <td>5</td>\n",
       "      <td>5</td>\n",
       "      <td>0</td>\n",
       "      <td>1</td>\n",
       "      <td>https://sa.aqar.fm/%D9%81%D9%84%D9%84-%D9%84%D...</td>\n",
       "    </tr>\n",
       "    <tr>\n",
       "      <th>3</th>\n",
       "      <td>3</td>\n",
       "      <td>حي قرطبة</td>\n",
       "      <td>3700000</td>\n",
       "      <td>428 م²</td>\n",
       "      <td>5</td>\n",
       "      <td>6</td>\n",
       "      <td>0</td>\n",
       "      <td>1</td>\n",
       "      <td>https://sa.aqar.fm/%D9%81%D9%84%D9%84-%D9%84%D...</td>\n",
       "    </tr>\n",
       "    <tr>\n",
       "      <th>4</th>\n",
       "      <td>4</td>\n",
       "      <td>حي الياسمين</td>\n",
       "      <td>7900000</td>\n",
       "      <td>870 م²</td>\n",
       "      <td>5</td>\n",
       "      <td>7</td>\n",
       "      <td>0</td>\n",
       "      <td>1</td>\n",
       "      <td>https://sa.aqar.fm/%D9%81%D9%84%D9%84-%D9%84%D...</td>\n",
       "    </tr>\n",
       "  </tbody>\n",
       "</table>\n",
       "</div>"
      ],
      "text/plain": [
       "   UNNAMED: 0               LOCATION     PRICE    SIZE  BATH  BED  SEARCH  \\\n",
       "0           0     حي الدار البيضاء     750000   240 م²     5    7       0   \n",
       "1           1              حي عكاظ    1100000   330 م²     4    5       0   \n",
       "2           2     حي الدار البيضاء     880000   230 م²     5    5       0   \n",
       "3           3             حي قرطبة    3700000   428 م²     5    6       0   \n",
       "4           4          حي الياسمين    7900000   870 م²     5    7       0   \n",
       "\n",
       "   PAGE                                               LINK  \n",
       "0     1  https://sa.aqar.fm/%D9%81%D9%84%D9%84-%D9%84%D...  \n",
       "1     1  https://sa.aqar.fm/%D9%81%D9%84%D9%84-%D9%84%D...  \n",
       "2     1  https://sa.aqar.fm/%D9%81%D9%84%D9%84-%D9%84%D...  \n",
       "3     1  https://sa.aqar.fm/%D9%81%D9%84%D9%84-%D9%84%D...  \n",
       "4     1  https://sa.aqar.fm/%D9%81%D9%84%D9%84-%D9%84%D...  "
      ]
     },
     "execution_count": 39,
     "metadata": {},
     "output_type": "execute_result"
    }
   ],
   "source": [
    "#Remove word \"ريال\" from Colums\n",
    "df[\"PRICE\"]=df[\"PRICE\"].str.replace(\",\",\"\").str.replace(\"ريال\",\"\")\n",
    "df.head()"
   ]
  },
  {
   "cell_type": "code",
   "execution_count": 40,
   "id": "4481b987",
   "metadata": {},
   "outputs": [
    {
     "data": {
      "text/html": [
       "<div>\n",
       "<style scoped>\n",
       "    .dataframe tbody tr th:only-of-type {\n",
       "        vertical-align: middle;\n",
       "    }\n",
       "\n",
       "    .dataframe tbody tr th {\n",
       "        vertical-align: top;\n",
       "    }\n",
       "\n",
       "    .dataframe thead th {\n",
       "        text-align: right;\n",
       "    }\n",
       "</style>\n",
       "<table border=\"1\" class=\"dataframe\">\n",
       "  <thead>\n",
       "    <tr style=\"text-align: right;\">\n",
       "      <th></th>\n",
       "      <th>UNNAMED: 0</th>\n",
       "      <th>LOCATION</th>\n",
       "      <th>PRICE</th>\n",
       "      <th>SIZE</th>\n",
       "      <th>BATH</th>\n",
       "      <th>BED</th>\n",
       "      <th>SEARCH</th>\n",
       "      <th>PAGE</th>\n",
       "      <th>LINK</th>\n",
       "    </tr>\n",
       "  </thead>\n",
       "  <tbody>\n",
       "    <tr>\n",
       "      <th>0</th>\n",
       "      <td>0</td>\n",
       "      <td>حي الدار البيضاء</td>\n",
       "      <td>750000</td>\n",
       "      <td>240</td>\n",
       "      <td>5</td>\n",
       "      <td>7</td>\n",
       "      <td>0</td>\n",
       "      <td>1</td>\n",
       "      <td>https://sa.aqar.fm/%D9%81%D9%84%D9%84-%D9%84%D...</td>\n",
       "    </tr>\n",
       "    <tr>\n",
       "      <th>1</th>\n",
       "      <td>1</td>\n",
       "      <td>حي عكاظ</td>\n",
       "      <td>1100000</td>\n",
       "      <td>330</td>\n",
       "      <td>4</td>\n",
       "      <td>5</td>\n",
       "      <td>0</td>\n",
       "      <td>1</td>\n",
       "      <td>https://sa.aqar.fm/%D9%81%D9%84%D9%84-%D9%84%D...</td>\n",
       "    </tr>\n",
       "    <tr>\n",
       "      <th>2</th>\n",
       "      <td>2</td>\n",
       "      <td>حي الدار البيضاء</td>\n",
       "      <td>880000</td>\n",
       "      <td>230</td>\n",
       "      <td>5</td>\n",
       "      <td>5</td>\n",
       "      <td>0</td>\n",
       "      <td>1</td>\n",
       "      <td>https://sa.aqar.fm/%D9%81%D9%84%D9%84-%D9%84%D...</td>\n",
       "    </tr>\n",
       "    <tr>\n",
       "      <th>3</th>\n",
       "      <td>3</td>\n",
       "      <td>حي قرطبة</td>\n",
       "      <td>3700000</td>\n",
       "      <td>428</td>\n",
       "      <td>5</td>\n",
       "      <td>6</td>\n",
       "      <td>0</td>\n",
       "      <td>1</td>\n",
       "      <td>https://sa.aqar.fm/%D9%81%D9%84%D9%84-%D9%84%D...</td>\n",
       "    </tr>\n",
       "    <tr>\n",
       "      <th>4</th>\n",
       "      <td>4</td>\n",
       "      <td>حي الياسمين</td>\n",
       "      <td>7900000</td>\n",
       "      <td>870</td>\n",
       "      <td>5</td>\n",
       "      <td>7</td>\n",
       "      <td>0</td>\n",
       "      <td>1</td>\n",
       "      <td>https://sa.aqar.fm/%D9%81%D9%84%D9%84-%D9%84%D...</td>\n",
       "    </tr>\n",
       "    <tr>\n",
       "      <th>...</th>\n",
       "      <td>...</td>\n",
       "      <td>...</td>\n",
       "      <td>...</td>\n",
       "      <td>...</td>\n",
       "      <td>...</td>\n",
       "      <td>...</td>\n",
       "      <td>...</td>\n",
       "      <td>...</td>\n",
       "      <td>...</td>\n",
       "    </tr>\n",
       "    <tr>\n",
       "      <th>1570</th>\n",
       "      <td>16</td>\n",
       "      <td>حي حطين</td>\n",
       "      <td>3700000</td>\n",
       "      <td>375</td>\n",
       "      <td>5</td>\n",
       "      <td>5</td>\n",
       "      <td>0</td>\n",
       "      <td>75</td>\n",
       "      <td>https://sa.aqar.fm/%D9%81%D9%84%D9%84-%D9%84%D...</td>\n",
       "    </tr>\n",
       "    <tr>\n",
       "      <th>1571</th>\n",
       "      <td>17</td>\n",
       "      <td>حي الحزم</td>\n",
       "      <td>1400000</td>\n",
       "      <td>456</td>\n",
       "      <td>5</td>\n",
       "      <td>7</td>\n",
       "      <td>0</td>\n",
       "      <td>75</td>\n",
       "      <td>https://sa.aqar.fm/%D9%81%D9%84%D9%84-%D9%84%D...</td>\n",
       "    </tr>\n",
       "    <tr>\n",
       "      <th>1572</th>\n",
       "      <td>18</td>\n",
       "      <td>حي المروج</td>\n",
       "      <td>8000000</td>\n",
       "      <td>1144</td>\n",
       "      <td>5</td>\n",
       "      <td>5</td>\n",
       "      <td>0</td>\n",
       "      <td>75</td>\n",
       "      <td>https://sa.aqar.fm/%D9%81%D9%84%D9%84-%D9%84%D...</td>\n",
       "    </tr>\n",
       "    <tr>\n",
       "      <th>1573</th>\n",
       "      <td>19</td>\n",
       "      <td>حي بدر</td>\n",
       "      <td>1300000</td>\n",
       "      <td>360</td>\n",
       "      <td>5</td>\n",
       "      <td>1</td>\n",
       "      <td>0</td>\n",
       "      <td>75</td>\n",
       "      <td>https://sa.aqar.fm/%D9%81%D9%84%D9%84-%D9%84%D...</td>\n",
       "    </tr>\n",
       "    <tr>\n",
       "      <th>1574</th>\n",
       "      <td>20</td>\n",
       "      <td>حي الحزم</td>\n",
       "      <td>1300000</td>\n",
       "      <td>312</td>\n",
       "      <td>5</td>\n",
       "      <td>5</td>\n",
       "      <td>0</td>\n",
       "      <td>75</td>\n",
       "      <td>https://sa.aqar.fm/%D9%81%D9%84%D9%84-%D9%84%D...</td>\n",
       "    </tr>\n",
       "  </tbody>\n",
       "</table>\n",
       "<p>1575 rows × 9 columns</p>\n",
       "</div>"
      ],
      "text/plain": [
       "      UNNAMED: 0               LOCATION    PRICE  SIZE  BATH  BED  SEARCH  \\\n",
       "0              0     حي الدار البيضاء     750000   240     5    7       0   \n",
       "1              1              حي عكاظ    1100000   330     4    5       0   \n",
       "2              2     حي الدار البيضاء     880000   230     5    5       0   \n",
       "3              3             حي قرطبة    3700000   428     5    6       0   \n",
       "4              4          حي الياسمين    7900000   870     5    7       0   \n",
       "...          ...                    ...      ...   ...   ...  ...     ...   \n",
       "1570          16              حي حطين    3700000   375     5    5       0   \n",
       "1571          17             حي الحزم    1400000   456     5    7       0   \n",
       "1572          18            حي المروج    8000000  1144     5    5       0   \n",
       "1573          19               حي بدر    1300000   360     5    1       0   \n",
       "1574          20             حي الحزم    1300000   312     5    5       0   \n",
       "\n",
       "      PAGE                                               LINK  \n",
       "0        1  https://sa.aqar.fm/%D9%81%D9%84%D9%84-%D9%84%D...  \n",
       "1        1  https://sa.aqar.fm/%D9%81%D9%84%D9%84-%D9%84%D...  \n",
       "2        1  https://sa.aqar.fm/%D9%81%D9%84%D9%84-%D9%84%D...  \n",
       "3        1  https://sa.aqar.fm/%D9%81%D9%84%D9%84-%D9%84%D...  \n",
       "4        1  https://sa.aqar.fm/%D9%81%D9%84%D9%84-%D9%84%D...  \n",
       "...    ...                                                ...  \n",
       "1570    75  https://sa.aqar.fm/%D9%81%D9%84%D9%84-%D9%84%D...  \n",
       "1571    75  https://sa.aqar.fm/%D9%81%D9%84%D9%84-%D9%84%D...  \n",
       "1572    75  https://sa.aqar.fm/%D9%81%D9%84%D9%84-%D9%84%D...  \n",
       "1573    75  https://sa.aqar.fm/%D9%81%D9%84%D9%84-%D9%84%D...  \n",
       "1574    75  https://sa.aqar.fm/%D9%81%D9%84%D9%84-%D9%84%D...  \n",
       "\n",
       "[1575 rows x 9 columns]"
      ]
     },
     "execution_count": 40,
     "metadata": {},
     "output_type": "execute_result"
    }
   ],
   "source": [
    "#convert data type from string to Integer\n",
    "df['PRICE'] = pd.to_numeric(df.PRICE.str.strip())\n",
    "df['SIZE'] = pd.to_numeric(df.SIZE.str.split().str[0])\n",
    "df"
   ]
  },
  {
   "cell_type": "code",
   "execution_count": 41,
   "id": "63d4ca3e",
   "metadata": {},
   "outputs": [],
   "source": [
    "#convert data type from string to Integer\n",
    "#df['LOCATION'] = pd.to_numeric(df.LOCATION.str.strip())\n",
    "#df"
   ]
  },
  {
   "cell_type": "code",
   "execution_count": 42,
   "id": "cf7cc706",
   "metadata": {},
   "outputs": [],
   "source": [
    "#Remove word \"م\" from Colums\n",
    "#df[\"SIZE\"]=df[\"SIZE\"].str.replace(\"م\",\"\")#.str.replace(\"\",\"\")\n",
    "#df.head()"
   ]
  },
  {
   "cell_type": "code",
   "execution_count": 43,
   "id": "42b1fc14",
   "metadata": {},
   "outputs": [
    {
     "data": {
      "text/plain": [
       "55000000"
      ]
     },
     "execution_count": 43,
     "metadata": {},
     "output_type": "execute_result"
    }
   ],
   "source": [
    "df['PRICE'].max() #display higher price"
   ]
  },
  {
   "cell_type": "code",
   "execution_count": 44,
   "id": "42766916",
   "metadata": {},
   "outputs": [
    {
     "data": {
      "text/plain": [
       "73000"
      ]
     },
     "execution_count": 44,
     "metadata": {},
     "output_type": "execute_result"
    }
   ],
   "source": [
    "df['PRICE'].min() #display lower price"
   ]
  },
  {
   "cell_type": "code",
   "execution_count": 45,
   "id": "d91b4d7f",
   "metadata": {},
   "outputs": [
    {
     "name": "stdout",
     "output_type": "stream",
     "text": [
      "<class 'pandas.core.frame.DataFrame'>\n",
      "RangeIndex: 1575 entries, 0 to 1574\n",
      "Data columns (total 9 columns):\n",
      " #   Column      Non-Null Count  Dtype \n",
      "---  ------      --------------  ----- \n",
      " 0   UNNAMED: 0  1575 non-null   int64 \n",
      " 1   LOCATION    1575 non-null   object\n",
      " 2   PRICE       1575 non-null   int64 \n",
      " 3   SIZE        1575 non-null   int64 \n",
      " 4   BATH        1575 non-null   int64 \n",
      " 5   BED         1575 non-null   int64 \n",
      " 6   SEARCH      1575 non-null   int64 \n",
      " 7   PAGE        1575 non-null   int64 \n",
      " 8   LINK        1575 non-null   object\n",
      "dtypes: int64(7), object(2)\n",
      "memory usage: 110.9+ KB\n"
     ]
    }
   ],
   "source": [
    "df.info()"
   ]
  },
  {
   "cell_type": "code",
   "execution_count": 46,
   "id": "765d836a",
   "metadata": {},
   "outputs": [
    {
     "data": {
      "text/html": [
       "<div>\n",
       "<style scoped>\n",
       "    .dataframe tbody tr th:only-of-type {\n",
       "        vertical-align: middle;\n",
       "    }\n",
       "\n",
       "    .dataframe tbody tr th {\n",
       "        vertical-align: top;\n",
       "    }\n",
       "\n",
       "    .dataframe thead th {\n",
       "        text-align: right;\n",
       "    }\n",
       "</style>\n",
       "<table border=\"1\" class=\"dataframe\">\n",
       "  <thead>\n",
       "    <tr style=\"text-align: right;\">\n",
       "      <th></th>\n",
       "      <th>LOCATION</th>\n",
       "      <th>PRICE</th>\n",
       "      <th>SIZE</th>\n",
       "      <th>BATH</th>\n",
       "      <th>BED</th>\n",
       "      <th>LINK</th>\n",
       "    </tr>\n",
       "  </thead>\n",
       "  <tbody>\n",
       "    <tr>\n",
       "      <th>0</th>\n",
       "      <td>حي الدار البيضاء</td>\n",
       "      <td>750000</td>\n",
       "      <td>240</td>\n",
       "      <td>5</td>\n",
       "      <td>7</td>\n",
       "      <td>https://sa.aqar.fm/%D9%81%D9%84%D9%84-%D9%84%D...</td>\n",
       "    </tr>\n",
       "    <tr>\n",
       "      <th>1</th>\n",
       "      <td>حي عكاظ</td>\n",
       "      <td>1100000</td>\n",
       "      <td>330</td>\n",
       "      <td>4</td>\n",
       "      <td>5</td>\n",
       "      <td>https://sa.aqar.fm/%D9%81%D9%84%D9%84-%D9%84%D...</td>\n",
       "    </tr>\n",
       "    <tr>\n",
       "      <th>2</th>\n",
       "      <td>حي الدار البيضاء</td>\n",
       "      <td>880000</td>\n",
       "      <td>230</td>\n",
       "      <td>5</td>\n",
       "      <td>5</td>\n",
       "      <td>https://sa.aqar.fm/%D9%81%D9%84%D9%84-%D9%84%D...</td>\n",
       "    </tr>\n",
       "    <tr>\n",
       "      <th>3</th>\n",
       "      <td>حي قرطبة</td>\n",
       "      <td>3700000</td>\n",
       "      <td>428</td>\n",
       "      <td>5</td>\n",
       "      <td>6</td>\n",
       "      <td>https://sa.aqar.fm/%D9%81%D9%84%D9%84-%D9%84%D...</td>\n",
       "    </tr>\n",
       "    <tr>\n",
       "      <th>4</th>\n",
       "      <td>حي الياسمين</td>\n",
       "      <td>7900000</td>\n",
       "      <td>870</td>\n",
       "      <td>5</td>\n",
       "      <td>7</td>\n",
       "      <td>https://sa.aqar.fm/%D9%81%D9%84%D9%84-%D9%84%D...</td>\n",
       "    </tr>\n",
       "    <tr>\n",
       "      <th>...</th>\n",
       "      <td>...</td>\n",
       "      <td>...</td>\n",
       "      <td>...</td>\n",
       "      <td>...</td>\n",
       "      <td>...</td>\n",
       "      <td>...</td>\n",
       "    </tr>\n",
       "    <tr>\n",
       "      <th>1570</th>\n",
       "      <td>حي حطين</td>\n",
       "      <td>3700000</td>\n",
       "      <td>375</td>\n",
       "      <td>5</td>\n",
       "      <td>5</td>\n",
       "      <td>https://sa.aqar.fm/%D9%81%D9%84%D9%84-%D9%84%D...</td>\n",
       "    </tr>\n",
       "    <tr>\n",
       "      <th>1571</th>\n",
       "      <td>حي الحزم</td>\n",
       "      <td>1400000</td>\n",
       "      <td>456</td>\n",
       "      <td>5</td>\n",
       "      <td>7</td>\n",
       "      <td>https://sa.aqar.fm/%D9%81%D9%84%D9%84-%D9%84%D...</td>\n",
       "    </tr>\n",
       "    <tr>\n",
       "      <th>1572</th>\n",
       "      <td>حي المروج</td>\n",
       "      <td>8000000</td>\n",
       "      <td>1144</td>\n",
       "      <td>5</td>\n",
       "      <td>5</td>\n",
       "      <td>https://sa.aqar.fm/%D9%81%D9%84%D9%84-%D9%84%D...</td>\n",
       "    </tr>\n",
       "    <tr>\n",
       "      <th>1573</th>\n",
       "      <td>حي بدر</td>\n",
       "      <td>1300000</td>\n",
       "      <td>360</td>\n",
       "      <td>5</td>\n",
       "      <td>1</td>\n",
       "      <td>https://sa.aqar.fm/%D9%81%D9%84%D9%84-%D9%84%D...</td>\n",
       "    </tr>\n",
       "    <tr>\n",
       "      <th>1574</th>\n",
       "      <td>حي الحزم</td>\n",
       "      <td>1300000</td>\n",
       "      <td>312</td>\n",
       "      <td>5</td>\n",
       "      <td>5</td>\n",
       "      <td>https://sa.aqar.fm/%D9%81%D9%84%D9%84-%D9%84%D...</td>\n",
       "    </tr>\n",
       "  </tbody>\n",
       "</table>\n",
       "<p>1575 rows × 6 columns</p>\n",
       "</div>"
      ],
      "text/plain": [
       "                   LOCATION    PRICE  SIZE  BATH  BED  \\\n",
       "0        حي الدار البيضاء     750000   240     5    7   \n",
       "1                 حي عكاظ    1100000   330     4    5   \n",
       "2        حي الدار البيضاء     880000   230     5    5   \n",
       "3                حي قرطبة    3700000   428     5    6   \n",
       "4             حي الياسمين    7900000   870     5    7   \n",
       "...                     ...      ...   ...   ...  ...   \n",
       "1570              حي حطين    3700000   375     5    5   \n",
       "1571             حي الحزم    1400000   456     5    7   \n",
       "1572            حي المروج    8000000  1144     5    5   \n",
       "1573               حي بدر    1300000   360     5    1   \n",
       "1574             حي الحزم    1300000   312     5    5   \n",
       "\n",
       "                                                   LINK  \n",
       "0     https://sa.aqar.fm/%D9%81%D9%84%D9%84-%D9%84%D...  \n",
       "1     https://sa.aqar.fm/%D9%81%D9%84%D9%84-%D9%84%D...  \n",
       "2     https://sa.aqar.fm/%D9%81%D9%84%D9%84-%D9%84%D...  \n",
       "3     https://sa.aqar.fm/%D9%81%D9%84%D9%84-%D9%84%D...  \n",
       "4     https://sa.aqar.fm/%D9%81%D9%84%D9%84-%D9%84%D...  \n",
       "...                                                 ...  \n",
       "1570  https://sa.aqar.fm/%D9%81%D9%84%D9%84-%D9%84%D...  \n",
       "1571  https://sa.aqar.fm/%D9%81%D9%84%D9%84-%D9%84%D...  \n",
       "1572  https://sa.aqar.fm/%D9%81%D9%84%D9%84-%D9%84%D...  \n",
       "1573  https://sa.aqar.fm/%D9%81%D9%84%D9%84-%D9%84%D...  \n",
       "1574  https://sa.aqar.fm/%D9%81%D9%84%D9%84-%D9%84%D...  \n",
       "\n",
       "[1575 rows x 6 columns]"
      ]
     },
     "execution_count": 46,
     "metadata": {},
     "output_type": "execute_result"
    }
   ],
   "source": [
    "#drop columns\n",
    "df.drop('UNNAMED: 0',axis=1,inplace=True)\n",
    "df.drop('SEARCH',axis=1,inplace=True)\n",
    "df.drop('PAGE',axis=1,inplace=True)\n",
    "df"
   ]
  },
  {
   "cell_type": "code",
   "execution_count": 47,
   "id": "9651f9e2",
   "metadata": {},
   "outputs": [
    {
     "data": {
      "image/png": "[encoded data removed]",
      "text/plain": [
       "<Figure size 1440x1080 with 4 Axes>"
      ]
     },
     "metadata": {
      "image/png": {
       "height": 861,
       "width": 1169
      },
      "needs_background": "light"
     },
     "output_type": "display_data"
    }
   ],
   "source": [
    "# Display all categoral columns as countplots(similar to histograms)\n",
    "df.hist(bins=50,figsize=(20,15));"
   ]
  },
  {
   "cell_type": "markdown",
   "id": "1b7b7f47",
   "metadata": {},
   "source": [
    "### Split into feature and target"
   ]
  },
  {
   "cell_type": "code",
   "execution_count": 48,
   "id": "a03dd2aa",
   "metadata": {},
   "outputs": [],
   "source": [
    "#Separate our features from our target\n",
    "\n",
    "X = df.loc[:,['LOCATION','SIZE', 'BATH', 'BED']]\n",
    "\n",
    "y = df['PRICE']"
   ]
  },
  {
   "cell_type": "code",
   "execution_count": 49,
   "id": "5932e2b3",
   "metadata": {},
   "outputs": [],
   "source": [
    "X_train, X_val, y_train, y_val = train_test_split(X, y, test_size = 0.2, random_state = 42)"
   ]
  },
  {
   "cell_type": "code",
   "execution_count": 50,
   "id": "267503f1",
   "metadata": {},
   "outputs": [
    {
     "ename": "ValueError",
     "evalue": "could not convert string to float: '   حي القادسية  '",
     "output_type": "error",
     "traceback": [
      "\u001b[1;31m---------------------------------------------------------------------------\u001b[0m",
      "\u001b[1;31mValueError\u001b[0m                                Traceback (most recent call last)",
      "\u001b[1;32m<ipython-input-50-bb910ace0dcb>\u001b[0m in \u001b[0;36m<module>\u001b[1;34m\u001b[0m\n\u001b[0;32m      4\u001b[0m \u001b[1;31m## Scale the data as before\u001b[0m\u001b[1;33m\u001b[0m\u001b[1;33m\u001b[0m\u001b[1;33m\u001b[0m\u001b[0m\n\u001b[0;32m      5\u001b[0m \u001b[0mstd\u001b[0m \u001b[1;33m=\u001b[0m \u001b[0mStandardScaler\u001b[0m\u001b[1;33m(\u001b[0m\u001b[1;33m)\u001b[0m\u001b[1;33m\u001b[0m\u001b[1;33m\u001b[0m\u001b[0m\n\u001b[1;32m----> 6\u001b[1;33m \u001b[0mstd\u001b[0m\u001b[1;33m.\u001b[0m\u001b[0mfit\u001b[0m\u001b[1;33m(\u001b[0m\u001b[0mX_train\u001b[0m\u001b[1;33m.\u001b[0m\u001b[0mvalues\u001b[0m\u001b[1;33m)\u001b[0m\u001b[1;33m\u001b[0m\u001b[1;33m\u001b[0m\u001b[0m\n\u001b[0m",
      "\u001b[1;32m~\\Anaconda3\\lib\\site-packages\\sklearn\\preprocessing\\_data.py\u001b[0m in \u001b[0;36mfit\u001b[1;34m(self, X, y, sample_weight)\u001b[0m\n\u001b[0;32m    728\u001b[0m         \u001b[1;31m# Reset internal state before fitting\u001b[0m\u001b[1;33m\u001b[0m\u001b[1;33m\u001b[0m\u001b[1;33m\u001b[0m\u001b[0m\n\u001b[0;32m    729\u001b[0m         \u001b[0mself\u001b[0m\u001b[1;33m.\u001b[0m\u001b[0m_reset\u001b[0m\u001b[1;33m(\u001b[0m\u001b[1;33m)\u001b[0m\u001b[1;33m\u001b[0m\u001b[1;33m\u001b[0m\u001b[0m\n\u001b[1;32m--> 730\u001b[1;33m         \u001b[1;32mreturn\u001b[0m \u001b[0mself\u001b[0m\u001b[1;33m.\u001b[0m\u001b[0mpartial_fit\u001b[0m\u001b[1;33m(\u001b[0m\u001b[0mX\u001b[0m\u001b[1;33m,\u001b[0m \u001b[0my\u001b[0m\u001b[1;33m,\u001b[0m \u001b[0msample_weight\u001b[0m\u001b[1;33m)\u001b[0m\u001b[1;33m\u001b[0m\u001b[1;33m\u001b[0m\u001b[0m\n\u001b[0m\u001b[0;32m    731\u001b[0m \u001b[1;33m\u001b[0m\u001b[0m\n\u001b[0;32m    732\u001b[0m     \u001b[1;32mdef\u001b[0m \u001b[0mpartial_fit\u001b[0m\u001b[1;33m(\u001b[0m\u001b[0mself\u001b[0m\u001b[1;33m,\u001b[0m \u001b[0mX\u001b[0m\u001b[1;33m,\u001b[0m \u001b[0my\u001b[0m\u001b[1;33m=\u001b[0m\u001b[1;32mNone\u001b[0m\u001b[1;33m,\u001b[0m \u001b[0msample_weight\u001b[0m\u001b[1;33m=\u001b[0m\u001b[1;32mNone\u001b[0m\u001b[1;33m)\u001b[0m\u001b[1;33m:\u001b[0m\u001b[1;33m\u001b[0m\u001b[1;33m\u001b[0m\u001b[0m\n",
      "\u001b[1;32m~\\Anaconda3\\lib\\site-packages\\sklearn\\preprocessing\\_data.py\u001b[0m in \u001b[0;36mpartial_fit\u001b[1;34m(self, X, y, sample_weight)\u001b[0m\n\u001b[0;32m    764\u001b[0m         \"\"\"\n\u001b[0;32m    765\u001b[0m         \u001b[0mfirst_call\u001b[0m \u001b[1;33m=\u001b[0m \u001b[1;32mnot\u001b[0m \u001b[0mhasattr\u001b[0m\u001b[1;33m(\u001b[0m\u001b[0mself\u001b[0m\u001b[1;33m,\u001b[0m \u001b[1;34m\"n_samples_seen_\"\u001b[0m\u001b[1;33m)\u001b[0m\u001b[1;33m\u001b[0m\u001b[1;33m\u001b[0m\u001b[0m\n\u001b[1;32m--> 766\u001b[1;33m         X = self._validate_data(X, accept_sparse=('csr', 'csc'),\n\u001b[0m\u001b[0;32m    767\u001b[0m                                 \u001b[0mestimator\u001b[0m\u001b[1;33m=\u001b[0m\u001b[0mself\u001b[0m\u001b[1;33m,\u001b[0m \u001b[0mdtype\u001b[0m\u001b[1;33m=\u001b[0m\u001b[0mFLOAT_DTYPES\u001b[0m\u001b[1;33m,\u001b[0m\u001b[1;33m\u001b[0m\u001b[1;33m\u001b[0m\u001b[0m\n\u001b[0;32m    768\u001b[0m                                 force_all_finite='allow-nan', reset=first_call)\n",
      "\u001b[1;32m~\\Anaconda3\\lib\\site-packages\\sklearn\\base.py\u001b[0m in \u001b[0;36m_validate_data\u001b[1;34m(self, X, y, reset, validate_separately, **check_params)\u001b[0m\n\u001b[0;32m    419\u001b[0m             \u001b[0mout\u001b[0m \u001b[1;33m=\u001b[0m \u001b[0mX\u001b[0m\u001b[1;33m\u001b[0m\u001b[1;33m\u001b[0m\u001b[0m\n\u001b[0;32m    420\u001b[0m         \u001b[1;32melif\u001b[0m \u001b[0misinstance\u001b[0m\u001b[1;33m(\u001b[0m\u001b[0my\u001b[0m\u001b[1;33m,\u001b[0m \u001b[0mstr\u001b[0m\u001b[1;33m)\u001b[0m \u001b[1;32mand\u001b[0m \u001b[0my\u001b[0m \u001b[1;33m==\u001b[0m \u001b[1;34m'no_validation'\u001b[0m\u001b[1;33m:\u001b[0m\u001b[1;33m\u001b[0m\u001b[1;33m\u001b[0m\u001b[0m\n\u001b[1;32m--> 421\u001b[1;33m             \u001b[0mX\u001b[0m \u001b[1;33m=\u001b[0m \u001b[0mcheck_array\u001b[0m\u001b[1;33m(\u001b[0m\u001b[0mX\u001b[0m\u001b[1;33m,\u001b[0m \u001b[1;33m**\u001b[0m\u001b[0mcheck_params\u001b[0m\u001b[1;33m)\u001b[0m\u001b[1;33m\u001b[0m\u001b[1;33m\u001b[0m\u001b[0m\n\u001b[0m\u001b[0;32m    422\u001b[0m             \u001b[0mout\u001b[0m \u001b[1;33m=\u001b[0m \u001b[0mX\u001b[0m\u001b[1;33m\u001b[0m\u001b[1;33m\u001b[0m\u001b[0m\n\u001b[0;32m    423\u001b[0m         \u001b[1;32melse\u001b[0m\u001b[1;33m:\u001b[0m\u001b[1;33m\u001b[0m\u001b[1;33m\u001b[0m\u001b[0m\n",
      "\u001b[1;32m~\\Anaconda3\\lib\\site-packages\\sklearn\\utils\\validation.py\u001b[0m in \u001b[0;36minner_f\u001b[1;34m(*args, **kwargs)\u001b[0m\n\u001b[0;32m     61\u001b[0m             \u001b[0mextra_args\u001b[0m \u001b[1;33m=\u001b[0m \u001b[0mlen\u001b[0m\u001b[1;33m(\u001b[0m\u001b[0margs\u001b[0m\u001b[1;33m)\u001b[0m \u001b[1;33m-\u001b[0m \u001b[0mlen\u001b[0m\u001b[1;33m(\u001b[0m\u001b[0mall_args\u001b[0m\u001b[1;33m)\u001b[0m\u001b[1;33m\u001b[0m\u001b[1;33m\u001b[0m\u001b[0m\n\u001b[0;32m     62\u001b[0m             \u001b[1;32mif\u001b[0m \u001b[0mextra_args\u001b[0m \u001b[1;33m<=\u001b[0m \u001b[1;36m0\u001b[0m\u001b[1;33m:\u001b[0m\u001b[1;33m\u001b[0m\u001b[1;33m\u001b[0m\u001b[0m\n\u001b[1;32m---> 63\u001b[1;33m                 \u001b[1;32mreturn\u001b[0m \u001b[0mf\u001b[0m\u001b[1;33m(\u001b[0m\u001b[1;33m*\u001b[0m\u001b[0margs\u001b[0m\u001b[1;33m,\u001b[0m \u001b[1;33m**\u001b[0m\u001b[0mkwargs\u001b[0m\u001b[1;33m)\u001b[0m\u001b[1;33m\u001b[0m\u001b[1;33m\u001b[0m\u001b[0m\n\u001b[0m\u001b[0;32m     64\u001b[0m \u001b[1;33m\u001b[0m\u001b[0m\n\u001b[0;32m     65\u001b[0m             \u001b[1;31m# extra_args > 0\u001b[0m\u001b[1;33m\u001b[0m\u001b[1;33m\u001b[0m\u001b[1;33m\u001b[0m\u001b[0m\n",
      "\u001b[1;32m~\\Anaconda3\\lib\\site-packages\\sklearn\\utils\\validation.py\u001b[0m in \u001b[0;36mcheck_array\u001b[1;34m(array, accept_sparse, accept_large_sparse, dtype, order, copy, force_all_finite, ensure_2d, allow_nd, ensure_min_samples, ensure_min_features, estimator)\u001b[0m\n\u001b[0;32m    614\u001b[0m                     \u001b[0marray\u001b[0m \u001b[1;33m=\u001b[0m \u001b[0marray\u001b[0m\u001b[1;33m.\u001b[0m\u001b[0mastype\u001b[0m\u001b[1;33m(\u001b[0m\u001b[0mdtype\u001b[0m\u001b[1;33m,\u001b[0m \u001b[0mcasting\u001b[0m\u001b[1;33m=\u001b[0m\u001b[1;34m\"unsafe\"\u001b[0m\u001b[1;33m,\u001b[0m \u001b[0mcopy\u001b[0m\u001b[1;33m=\u001b[0m\u001b[1;32mFalse\u001b[0m\u001b[1;33m)\u001b[0m\u001b[1;33m\u001b[0m\u001b[1;33m\u001b[0m\u001b[0m\n\u001b[0;32m    615\u001b[0m                 \u001b[1;32melse\u001b[0m\u001b[1;33m:\u001b[0m\u001b[1;33m\u001b[0m\u001b[1;33m\u001b[0m\u001b[0m\n\u001b[1;32m--> 616\u001b[1;33m                     \u001b[0marray\u001b[0m \u001b[1;33m=\u001b[0m \u001b[0mnp\u001b[0m\u001b[1;33m.\u001b[0m\u001b[0masarray\u001b[0m\u001b[1;33m(\u001b[0m\u001b[0marray\u001b[0m\u001b[1;33m,\u001b[0m \u001b[0morder\u001b[0m\u001b[1;33m=\u001b[0m\u001b[0morder\u001b[0m\u001b[1;33m,\u001b[0m \u001b[0mdtype\u001b[0m\u001b[1;33m=\u001b[0m\u001b[0mdtype\u001b[0m\u001b[1;33m)\u001b[0m\u001b[1;33m\u001b[0m\u001b[1;33m\u001b[0m\u001b[0m\n\u001b[0m\u001b[0;32m    617\u001b[0m             \u001b[1;32mexcept\u001b[0m \u001b[0mComplexWarning\u001b[0m \u001b[1;32mas\u001b[0m \u001b[0mcomplex_warning\u001b[0m\u001b[1;33m:\u001b[0m\u001b[1;33m\u001b[0m\u001b[1;33m\u001b[0m\u001b[0m\n\u001b[0;32m    618\u001b[0m                 raise ValueError(\"Complex data not supported\\n\"\n",
      "\u001b[1;32m~\\Anaconda3\\lib\\site-packages\\numpy\\core\\_asarray.py\u001b[0m in \u001b[0;36masarray\u001b[1;34m(a, dtype, order, like)\u001b[0m\n\u001b[0;32m    100\u001b[0m         \u001b[1;32mreturn\u001b[0m \u001b[0m_asarray_with_like\u001b[0m\u001b[1;33m(\u001b[0m\u001b[0ma\u001b[0m\u001b[1;33m,\u001b[0m \u001b[0mdtype\u001b[0m\u001b[1;33m=\u001b[0m\u001b[0mdtype\u001b[0m\u001b[1;33m,\u001b[0m \u001b[0morder\u001b[0m\u001b[1;33m=\u001b[0m\u001b[0morder\u001b[0m\u001b[1;33m,\u001b[0m \u001b[0mlike\u001b[0m\u001b[1;33m=\u001b[0m\u001b[0mlike\u001b[0m\u001b[1;33m)\u001b[0m\u001b[1;33m\u001b[0m\u001b[1;33m\u001b[0m\u001b[0m\n\u001b[0;32m    101\u001b[0m \u001b[1;33m\u001b[0m\u001b[0m\n\u001b[1;32m--> 102\u001b[1;33m     \u001b[1;32mreturn\u001b[0m \u001b[0marray\u001b[0m\u001b[1;33m(\u001b[0m\u001b[0ma\u001b[0m\u001b[1;33m,\u001b[0m \u001b[0mdtype\u001b[0m\u001b[1;33m,\u001b[0m \u001b[0mcopy\u001b[0m\u001b[1;33m=\u001b[0m\u001b[1;32mFalse\u001b[0m\u001b[1;33m,\u001b[0m \u001b[0morder\u001b[0m\u001b[1;33m=\u001b[0m\u001b[0morder\u001b[0m\u001b[1;33m)\u001b[0m\u001b[1;33m\u001b[0m\u001b[1;33m\u001b[0m\u001b[0m\n\u001b[0m\u001b[0;32m    103\u001b[0m \u001b[1;33m\u001b[0m\u001b[0m\n\u001b[0;32m    104\u001b[0m \u001b[1;33m\u001b[0m\u001b[0m\n",
      "\u001b[1;31mValueError\u001b[0m: could not convert string to float: '   حي القادسية  '"
     ]
    }
   ],
   "source": [
    "# import model and fit\n",
    "from sklearn.preprocessing import StandardScaler\n",
    "\n",
    "## Scale the data as before\n",
    "std = StandardScaler()\n",
    "std.fit(X_train.values)"
   ]
  },
  {
   "cell_type": "code",
   "execution_count": 51,
   "id": "baf4d156",
   "metadata": {},
   "outputs": [
    {
     "ename": "NotFittedError",
     "evalue": "This StandardScaler instance is not fitted yet. Call 'fit' with appropriate arguments before using this estimator.",
     "output_type": "error",
     "traceback": [
      "\u001b[1;31m---------------------------------------------------------------------------\u001b[0m",
      "\u001b[1;31mNotFittedError\u001b[0m                            Traceback (most recent call last)",
      "\u001b[1;32m<ipython-input-51-99dd46061442>\u001b[0m in \u001b[0;36m<module>\u001b[1;34m\u001b[0m\n\u001b[0;32m      1\u001b[0m \u001b[1;31m## Scale the Predictors on both the train and valdation set\u001b[0m\u001b[1;33m\u001b[0m\u001b[1;33m\u001b[0m\u001b[1;33m\u001b[0m\u001b[0m\n\u001b[1;32m----> 2\u001b[1;33m \u001b[0mX_tr\u001b[0m \u001b[1;33m=\u001b[0m \u001b[0mstd\u001b[0m\u001b[1;33m.\u001b[0m\u001b[0mtransform\u001b[0m\u001b[1;33m(\u001b[0m\u001b[0mX_train\u001b[0m\u001b[1;33m.\u001b[0m\u001b[0mvalues\u001b[0m\u001b[1;33m)\u001b[0m\u001b[1;33m\u001b[0m\u001b[1;33m\u001b[0m\u001b[0m\n\u001b[0m\u001b[0;32m      3\u001b[0m \u001b[0mX_va\u001b[0m \u001b[1;33m=\u001b[0m \u001b[0mstd\u001b[0m\u001b[1;33m.\u001b[0m\u001b[0mtransform\u001b[0m\u001b[1;33m(\u001b[0m\u001b[0mX_val\u001b[0m\u001b[1;33m.\u001b[0m\u001b[0mvalues\u001b[0m\u001b[1;33m)\u001b[0m\u001b[1;33m\u001b[0m\u001b[1;33m\u001b[0m\u001b[0m\n",
      "\u001b[1;32m~\\Anaconda3\\lib\\site-packages\\sklearn\\preprocessing\\_data.py\u001b[0m in \u001b[0;36mtransform\u001b[1;34m(self, X, copy)\u001b[0m\n\u001b[0;32m    878\u001b[0m             \u001b[0mTransformed\u001b[0m \u001b[0marray\u001b[0m\u001b[1;33m.\u001b[0m\u001b[1;33m\u001b[0m\u001b[1;33m\u001b[0m\u001b[0m\n\u001b[0;32m    879\u001b[0m         \"\"\"\n\u001b[1;32m--> 880\u001b[1;33m         \u001b[0mcheck_is_fitted\u001b[0m\u001b[1;33m(\u001b[0m\u001b[0mself\u001b[0m\u001b[1;33m)\u001b[0m\u001b[1;33m\u001b[0m\u001b[1;33m\u001b[0m\u001b[0m\n\u001b[0m\u001b[0;32m    881\u001b[0m \u001b[1;33m\u001b[0m\u001b[0m\n\u001b[0;32m    882\u001b[0m         \u001b[0mcopy\u001b[0m \u001b[1;33m=\u001b[0m \u001b[0mcopy\u001b[0m \u001b[1;32mif\u001b[0m \u001b[0mcopy\u001b[0m \u001b[1;32mis\u001b[0m \u001b[1;32mnot\u001b[0m \u001b[1;32mNone\u001b[0m \u001b[1;32melse\u001b[0m \u001b[0mself\u001b[0m\u001b[1;33m.\u001b[0m\u001b[0mcopy\u001b[0m\u001b[1;33m\u001b[0m\u001b[1;33m\u001b[0m\u001b[0m\n",
      "\u001b[1;32m~\\Anaconda3\\lib\\site-packages\\sklearn\\utils\\validation.py\u001b[0m in \u001b[0;36minner_f\u001b[1;34m(*args, **kwargs)\u001b[0m\n\u001b[0;32m     61\u001b[0m             \u001b[0mextra_args\u001b[0m \u001b[1;33m=\u001b[0m \u001b[0mlen\u001b[0m\u001b[1;33m(\u001b[0m\u001b[0margs\u001b[0m\u001b[1;33m)\u001b[0m \u001b[1;33m-\u001b[0m \u001b[0mlen\u001b[0m\u001b[1;33m(\u001b[0m\u001b[0mall_args\u001b[0m\u001b[1;33m)\u001b[0m\u001b[1;33m\u001b[0m\u001b[1;33m\u001b[0m\u001b[0m\n\u001b[0;32m     62\u001b[0m             \u001b[1;32mif\u001b[0m \u001b[0mextra_args\u001b[0m \u001b[1;33m<=\u001b[0m \u001b[1;36m0\u001b[0m\u001b[1;33m:\u001b[0m\u001b[1;33m\u001b[0m\u001b[1;33m\u001b[0m\u001b[0m\n\u001b[1;32m---> 63\u001b[1;33m                 \u001b[1;32mreturn\u001b[0m \u001b[0mf\u001b[0m\u001b[1;33m(\u001b[0m\u001b[1;33m*\u001b[0m\u001b[0margs\u001b[0m\u001b[1;33m,\u001b[0m \u001b[1;33m**\u001b[0m\u001b[0mkwargs\u001b[0m\u001b[1;33m)\u001b[0m\u001b[1;33m\u001b[0m\u001b[1;33m\u001b[0m\u001b[0m\n\u001b[0m\u001b[0;32m     64\u001b[0m \u001b[1;33m\u001b[0m\u001b[0m\n\u001b[0;32m     65\u001b[0m             \u001b[1;31m# extra_args > 0\u001b[0m\u001b[1;33m\u001b[0m\u001b[1;33m\u001b[0m\u001b[1;33m\u001b[0m\u001b[0m\n",
      "\u001b[1;32m~\\Anaconda3\\lib\\site-packages\\sklearn\\utils\\validation.py\u001b[0m in \u001b[0;36mcheck_is_fitted\u001b[1;34m(estimator, attributes, msg, all_or_any)\u001b[0m\n\u001b[0;32m   1039\u001b[0m \u001b[1;33m\u001b[0m\u001b[0m\n\u001b[0;32m   1040\u001b[0m     \u001b[1;32mif\u001b[0m \u001b[1;32mnot\u001b[0m \u001b[0mattrs\u001b[0m\u001b[1;33m:\u001b[0m\u001b[1;33m\u001b[0m\u001b[1;33m\u001b[0m\u001b[0m\n\u001b[1;32m-> 1041\u001b[1;33m         \u001b[1;32mraise\u001b[0m \u001b[0mNotFittedError\u001b[0m\u001b[1;33m(\u001b[0m\u001b[0mmsg\u001b[0m \u001b[1;33m%\u001b[0m \u001b[1;33m{\u001b[0m\u001b[1;34m'name'\u001b[0m\u001b[1;33m:\u001b[0m \u001b[0mtype\u001b[0m\u001b[1;33m(\u001b[0m\u001b[0mestimator\u001b[0m\u001b[1;33m)\u001b[0m\u001b[1;33m.\u001b[0m\u001b[0m__name__\u001b[0m\u001b[1;33m}\u001b[0m\u001b[1;33m)\u001b[0m\u001b[1;33m\u001b[0m\u001b[1;33m\u001b[0m\u001b[0m\n\u001b[0m\u001b[0;32m   1042\u001b[0m \u001b[1;33m\u001b[0m\u001b[0m\n\u001b[0;32m   1043\u001b[0m \u001b[1;33m\u001b[0m\u001b[0m\n",
      "\u001b[1;31mNotFittedError\u001b[0m: This StandardScaler instance is not fitted yet. Call 'fit' with appropriate arguments before using this estimator."
     ]
    }
   ],
   "source": [
    "## Scale the Predictors on both the train and valdation set\n",
    "X_tr = std.transform(X_train.values)\n",
    "X_va = std.transform(X_val.values)"
   ]
  },
  {
   "cell_type": "code",
   "execution_count": 52,
   "id": "f849df7e",
   "metadata": {},
   "outputs": [
    {
     "name": "stdout",
     "output_type": "stream",
     "text": [
      "<class 'pandas.core.frame.DataFrame'>\n",
      "RangeIndex: 1575 entries, 0 to 1574\n",
      "Data columns (total 4 columns):\n",
      " #   Column    Non-Null Count  Dtype \n",
      "---  ------    --------------  ----- \n",
      " 0   LOCATION  1575 non-null   object\n",
      " 1   SIZE      1575 non-null   int64 \n",
      " 2   BATH      1575 non-null   int64 \n",
      " 3   BED       1575 non-null   int64 \n",
      "dtypes: int64(3), object(1)\n",
      "memory usage: 49.3+ KB\n"
     ]
    }
   ],
   "source": [
    "X.info()\n"
   ]
  },
  {
   "cell_type": "code",
   "execution_count": 53,
   "id": "8afddc9e",
   "metadata": {},
   "outputs": [],
   "source": [
    "X.drop(\"LOCATION\", axis = 1, inplace = True)"
   ]
  },
  {
   "cell_type": "markdown",
   "id": "67c9b139",
   "metadata": {},
   "source": [
    "## Split into train, validation and test"
   ]
  },
  {
   "cell_type": "code",
   "execution_count": 54,
   "id": "aa02a09b",
   "metadata": {},
   "outputs": [],
   "source": [
    "X_train_val, X_test, y_train_val, y_test = train_test_split(X, y, test_size=0.2,random_state=42)\n",
    "X_train, X_val, y_train, y_val = train_test_split(X_train_val, y_train_val, test_size=0.1, random_state=42)"
   ]
  },
  {
   "cell_type": "code",
   "execution_count": 55,
   "id": "3422fd3c",
   "metadata": {},
   "outputs": [
    {
     "data": {
      "text/plain": [
       "(1134, 3)"
      ]
     },
     "execution_count": 55,
     "metadata": {},
     "output_type": "execute_result"
    }
   ],
   "source": [
    "X_train.shape"
   ]
  },
  {
   "cell_type": "code",
   "execution_count": 56,
   "id": "19a2d920",
   "metadata": {},
   "outputs": [
    {
     "data": {
      "text/plain": [
       "(126, 3)"
      ]
     },
     "execution_count": 56,
     "metadata": {},
     "output_type": "execute_result"
    }
   ],
   "source": [
    "X_val.shape"
   ]
  },
  {
   "cell_type": "code",
   "execution_count": 57,
   "id": "a5980492",
   "metadata": {},
   "outputs": [
    {
     "data": {
      "text/plain": [
       "(315, 3)"
      ]
     },
     "execution_count": 57,
     "metadata": {},
     "output_type": "execute_result"
    }
   ],
   "source": [
    "X_test.shape"
   ]
  },
  {
   "cell_type": "markdown",
   "id": "2058d32b",
   "metadata": {},
   "source": [
    "#  Discover and visualize the data \n"
   ]
  },
  {
   "cell_type": "code",
   "execution_count": 58,
   "id": "61c88516",
   "metadata": {},
   "outputs": [],
   "source": [
    "Housing_df=X_train.copy()"
   ]
  },
  {
   "cell_type": "code",
   "execution_count": 59,
   "id": "ead1475b",
   "metadata": {},
   "outputs": [
    {
     "data": {
      "text/html": [
       "<div>\n",
       "<style scoped>\n",
       "    .dataframe tbody tr th:only-of-type {\n",
       "        vertical-align: middle;\n",
       "    }\n",
       "\n",
       "    .dataframe tbody tr th {\n",
       "        vertical-align: top;\n",
       "    }\n",
       "\n",
       "    .dataframe thead th {\n",
       "        text-align: right;\n",
       "    }\n",
       "</style>\n",
       "<table border=\"1\" class=\"dataframe\">\n",
       "  <thead>\n",
       "    <tr style=\"text-align: right;\">\n",
       "      <th></th>\n",
       "      <th>SIZE</th>\n",
       "      <th>BATH</th>\n",
       "      <th>BED</th>\n",
       "    </tr>\n",
       "  </thead>\n",
       "  <tbody>\n",
       "    <tr>\n",
       "      <th>1315</th>\n",
       "      <td>350</td>\n",
       "      <td>5</td>\n",
       "      <td>4</td>\n",
       "    </tr>\n",
       "    <tr>\n",
       "      <th>1349</th>\n",
       "      <td>240</td>\n",
       "      <td>5</td>\n",
       "      <td>4</td>\n",
       "    </tr>\n",
       "    <tr>\n",
       "      <th>1384</th>\n",
       "      <td>384</td>\n",
       "      <td>4</td>\n",
       "      <td>4</td>\n",
       "    </tr>\n",
       "    <tr>\n",
       "      <th>900</th>\n",
       "      <td>200</td>\n",
       "      <td>5</td>\n",
       "      <td>6</td>\n",
       "    </tr>\n",
       "    <tr>\n",
       "      <th>328</th>\n",
       "      <td>440</td>\n",
       "      <td>5</td>\n",
       "      <td>5</td>\n",
       "    </tr>\n",
       "    <tr>\n",
       "      <th>...</th>\n",
       "      <td>...</td>\n",
       "      <td>...</td>\n",
       "      <td>...</td>\n",
       "    </tr>\n",
       "    <tr>\n",
       "      <th>1434</th>\n",
       "      <td>250</td>\n",
       "      <td>5</td>\n",
       "      <td>5</td>\n",
       "    </tr>\n",
       "    <tr>\n",
       "      <th>577</th>\n",
       "      <td>375</td>\n",
       "      <td>5</td>\n",
       "      <td>5</td>\n",
       "    </tr>\n",
       "    <tr>\n",
       "      <th>406</th>\n",
       "      <td>250</td>\n",
       "      <td>5</td>\n",
       "      <td>5</td>\n",
       "    </tr>\n",
       "    <tr>\n",
       "      <th>935</th>\n",
       "      <td>383</td>\n",
       "      <td>5</td>\n",
       "      <td>5</td>\n",
       "    </tr>\n",
       "    <tr>\n",
       "      <th>725</th>\n",
       "      <td>288</td>\n",
       "      <td>5</td>\n",
       "      <td>5</td>\n",
       "    </tr>\n",
       "  </tbody>\n",
       "</table>\n",
       "<p>1134 rows × 3 columns</p>\n",
       "</div>"
      ],
      "text/plain": [
       "      SIZE  BATH  BED\n",
       "1315   350     5    4\n",
       "1349   240     5    4\n",
       "1384   384     4    4\n",
       "900    200     5    6\n",
       "328    440     5    5\n",
       "...    ...   ...  ...\n",
       "1434   250     5    5\n",
       "577    375     5    5\n",
       "406    250     5    5\n",
       "935    383     5    5\n",
       "725    288     5    5\n",
       "\n",
       "[1134 rows x 3 columns]"
      ]
     },
     "execution_count": 59,
     "metadata": {},
     "output_type": "execute_result"
    }
   ],
   "source": [
    "Housing_df"
   ]
  },
  {
   "cell_type": "code",
   "execution_count": 60,
   "id": "87de3580",
   "metadata": {},
   "outputs": [
    {
     "data": {
      "image/png": "[encoded data removed]",
      "text/plain": [
       "<Figure size 432x288 with 1 Axes>"
      ]
     },
     "metadata": {
      "image/png": {
       "height": 275,
       "width": 405
      },
      "needs_background": "light"
     },
     "output_type": "display_data"
    }
   ],
   "source": [
    "df.plot(kind=\"scatter\", x=\"LOCATION\", y=\"PRICE\", alpha=0.1);"
   ]
  },
  {
   "cell_type": "markdown",
   "id": "020d03dd",
   "metadata": {},
   "source": [
    "# Visualizing with Seaborn"
   ]
  },
  {
   "cell_type": "code",
   "execution_count": 61,
   "id": "fb21e808",
   "metadata": {},
   "outputs": [
    {
     "data": {
      "text/html": [
       "<div>\n",
       "<style scoped>\n",
       "    .dataframe tbody tr th:only-of-type {\n",
       "        vertical-align: middle;\n",
       "    }\n",
       "\n",
       "    .dataframe tbody tr th {\n",
       "        vertical-align: top;\n",
       "    }\n",
       "\n",
       "    .dataframe thead th {\n",
       "        text-align: right;\n",
       "    }\n",
       "</style>\n",
       "<table border=\"1\" class=\"dataframe\">\n",
       "  <thead>\n",
       "    <tr style=\"text-align: right;\">\n",
       "      <th></th>\n",
       "      <th>PRICE</th>\n",
       "      <th>SIZE</th>\n",
       "      <th>BATH</th>\n",
       "      <th>BED</th>\n",
       "    </tr>\n",
       "  </thead>\n",
       "  <tbody>\n",
       "    <tr>\n",
       "      <th>PRICE</th>\n",
       "      <td>1.000000</td>\n",
       "      <td>0.862011</td>\n",
       "      <td>0.026696</td>\n",
       "      <td>0.066084</td>\n",
       "    </tr>\n",
       "    <tr>\n",
       "      <th>SIZE</th>\n",
       "      <td>0.862011</td>\n",
       "      <td>1.000000</td>\n",
       "      <td>0.010901</td>\n",
       "      <td>0.074033</td>\n",
       "    </tr>\n",
       "    <tr>\n",
       "      <th>BATH</th>\n",
       "      <td>0.026696</td>\n",
       "      <td>0.010901</td>\n",
       "      <td>1.000000</td>\n",
       "      <td>0.337442</td>\n",
       "    </tr>\n",
       "    <tr>\n",
       "      <th>BED</th>\n",
       "      <td>0.066084</td>\n",
       "      <td>0.074033</td>\n",
       "      <td>0.337442</td>\n",
       "      <td>1.000000</td>\n",
       "    </tr>\n",
       "  </tbody>\n",
       "</table>\n",
       "</div>"
      ],
      "text/plain": [
       "          PRICE      SIZE      BATH       BED\n",
       "PRICE  1.000000  0.862011  0.026696  0.066084\n",
       "SIZE   0.862011  1.000000  0.010901  0.074033\n",
       "BATH   0.026696  0.010901  1.000000  0.337442\n",
       "BED    0.066084  0.074033  0.337442  1.000000"
      ]
     },
     "execution_count": 61,
     "metadata": {},
     "output_type": "execute_result"
    }
   ],
   "source": [
    "# View the correlations\n",
    "df.corr()"
   ]
  },
  {
   "cell_type": "code",
   "execution_count": 73,
   "id": "42eee668",
   "metadata": {},
   "outputs": [
    {
     "data": {
      "image/png": "[encoded data removed]",
      "text/plain": [
       "<Figure size 1080x648 with 2 Axes>"
      ]
     },
     "metadata": {
      "image/png": {
       "height": 523,
       "width": 804
      },
      "needs_background": "light"
     },
     "output_type": "display_data"
    }
   ],
   "source": [
    "# example of a better corr matrix\n",
    "plt.figure(figsize=(15,9))\n",
    "sns.heatmap(df.corr(), cmap=\"PuBu\", annot=True, vmin=-1, vmax=1);"
   ]
  },
  {
   "cell_type": "code",
   "execution_count": 63,
   "id": "07445381",
   "metadata": {},
   "outputs": [
    {
     "data": {
      "text/plain": [
       "<Figure size 2160x2160 with 0 Axes>"
      ]
     },
     "metadata": {},
     "output_type": "display_data"
    },
    {
     "data": {
      "image/png": "[encoded data removed]",
      "text/plain": [
       "<Figure size 518.4x345.6 with 20 Axes>"
      ]
     },
     "metadata": {
      "image/png": {
       "height": 341,
       "width": 511
      },
      "needs_background": "light"
     },
     "output_type": "display_data"
    }
   ],
   "source": [
    "# Plot all of the variable-to-variable relations as scatterplots\n",
    "plt.figure(figsize=(30, 30))\n",
    "sns.pairplot(df, height=1.2, aspect=1.5);\n"
   ]
  },
  {
   "cell_type": "markdown",
   "id": "09582ab4",
   "metadata": {},
   "source": [
    "# Baseline Model"
   ]
  },
  {
   "cell_type": "code",
   "execution_count": 46,
   "id": "aa502fa3",
   "metadata": {},
   "outputs": [
    {
     "data": {
      "text/plain": [
       "0.7747790545507458"
      ]
     },
     "execution_count": 46,
     "metadata": {},
     "output_type": "execute_result"
    }
   ],
   "source": [
    "# Create your model\n",
    "lm = LinearRegression()\n",
    "\n",
    "# Fit your model to your training set\n",
    "lm.fit(X_train,y_train)\n",
    "\n",
    "\n",
    "lm.score(X_train,y_train)"
   ]
  },
  {
   "cell_type": "code",
   "execution_count": 47,
   "id": "f262732c",
   "metadata": {},
   "outputs": [
    {
     "data": {
      "text/plain": [
       "0.2882714586696268"
      ]
     },
     "execution_count": 47,
     "metadata": {},
     "output_type": "execute_result"
    }
   ],
   "source": [
    "lm.score(X_val,y_val)"
   ]
  },
  {
   "cell_type": "markdown",
   "id": "aaf56d14",
   "metadata": {},
   "source": [
    "# Experiment "
   ]
  },
  {
   "cell_type": "markdown",
   "id": "792a49a2",
   "metadata": {},
   "source": [
    "1. Label Encoder  "
   ]
  },
  {
   "cell_type": "code",
   "execution_count": 48,
   "id": "7b3fb705",
   "metadata": {},
   "outputs": [],
   "source": [
    "from sklearn import preprocessing\n",
    "\n",
    "le = preprocessing.LabelEncoder()\n",
    "df[\"LOCATION\"] = le.fit_transform(df[\"LOCATION\"])"
   ]
  },
  {
   "cell_type": "code",
   "execution_count": 49,
   "id": "d11ec2f9",
   "metadata": {},
   "outputs": [
    {
     "data": {
      "text/html": [
       "<div>\n",
       "<style scoped>\n",
       "    .dataframe tbody tr th:only-of-type {\n",
       "        vertical-align: middle;\n",
       "    }\n",
       "\n",
       "    .dataframe tbody tr th {\n",
       "        vertical-align: top;\n",
       "    }\n",
       "\n",
       "    .dataframe thead th {\n",
       "        text-align: right;\n",
       "    }\n",
       "</style>\n",
       "<table border=\"1\" class=\"dataframe\">\n",
       "  <thead>\n",
       "    <tr style=\"text-align: right;\">\n",
       "      <th></th>\n",
       "      <th>LOCATION</th>\n",
       "      <th>PRICE</th>\n",
       "      <th>SIZE</th>\n",
       "      <th>BATH</th>\n",
       "      <th>BED</th>\n",
       "      <th>LINK</th>\n",
       "    </tr>\n",
       "  </thead>\n",
       "  <tbody>\n",
       "    <tr>\n",
       "      <th>0</th>\n",
       "      <td>9</td>\n",
       "      <td>750000</td>\n",
       "      <td>240</td>\n",
       "      <td>5</td>\n",
       "      <td>7</td>\n",
       "      <td>https://sa.aqar.fm/%D9%81%D9%84%D9%84-%D9%84%D...</td>\n",
       "    </tr>\n",
       "    <tr>\n",
       "      <th>1</th>\n",
       "      <td>88</td>\n",
       "      <td>1100000</td>\n",
       "      <td>330</td>\n",
       "      <td>4</td>\n",
       "      <td>5</td>\n",
       "      <td>https://sa.aqar.fm/%D9%81%D9%84%D9%84-%D9%84%D...</td>\n",
       "    </tr>\n",
       "    <tr>\n",
       "      <th>2</th>\n",
       "      <td>9</td>\n",
       "      <td>880000</td>\n",
       "      <td>230</td>\n",
       "      <td>5</td>\n",
       "      <td>5</td>\n",
       "      <td>https://sa.aqar.fm/%D9%81%D9%84%D9%84-%D9%84%D...</td>\n",
       "    </tr>\n",
       "    <tr>\n",
       "      <th>3</th>\n",
       "      <td>91</td>\n",
       "      <td>3700000</td>\n",
       "      <td>428</td>\n",
       "      <td>5</td>\n",
       "      <td>6</td>\n",
       "      <td>https://sa.aqar.fm/%D9%81%D9%84%D9%84-%D9%84%D...</td>\n",
       "    </tr>\n",
       "    <tr>\n",
       "      <th>4</th>\n",
       "      <td>70</td>\n",
       "      <td>7900000</td>\n",
       "      <td>870</td>\n",
       "      <td>5</td>\n",
       "      <td>7</td>\n",
       "      <td>https://sa.aqar.fm/%D9%81%D9%84%D9%84-%D9%84%D...</td>\n",
       "    </tr>\n",
       "    <tr>\n",
       "      <th>...</th>\n",
       "      <td>...</td>\n",
       "      <td>...</td>\n",
       "      <td>...</td>\n",
       "      <td>...</td>\n",
       "      <td>...</td>\n",
       "      <td>...</td>\n",
       "    </tr>\n",
       "    <tr>\n",
       "      <th>1570</th>\n",
       "      <td>76</td>\n",
       "      <td>3700000</td>\n",
       "      <td>375</td>\n",
       "      <td>5</td>\n",
       "      <td>5</td>\n",
       "      <td>https://sa.aqar.fm/%D9%81%D9%84%D9%84-%D9%84%D...</td>\n",
       "    </tr>\n",
       "    <tr>\n",
       "      <th>1571</th>\n",
       "      <td>5</td>\n",
       "      <td>1400000</td>\n",
       "      <td>456</td>\n",
       "      <td>5</td>\n",
       "      <td>7</td>\n",
       "      <td>https://sa.aqar.fm/%D9%81%D9%84%D9%84-%D9%84%D...</td>\n",
       "    </tr>\n",
       "    <tr>\n",
       "      <th>1572</th>\n",
       "      <td>44</td>\n",
       "      <td>8000000</td>\n",
       "      <td>1144</td>\n",
       "      <td>5</td>\n",
       "      <td>5</td>\n",
       "      <td>https://sa.aqar.fm/%D9%81%D9%84%D9%84-%D9%84%D...</td>\n",
       "    </tr>\n",
       "    <tr>\n",
       "      <th>1573</th>\n",
       "      <td>72</td>\n",
       "      <td>1300000</td>\n",
       "      <td>360</td>\n",
       "      <td>5</td>\n",
       "      <td>1</td>\n",
       "      <td>https://sa.aqar.fm/%D9%81%D9%84%D9%84-%D9%84%D...</td>\n",
       "    </tr>\n",
       "    <tr>\n",
       "      <th>1574</th>\n",
       "      <td>5</td>\n",
       "      <td>1300000</td>\n",
       "      <td>312</td>\n",
       "      <td>5</td>\n",
       "      <td>5</td>\n",
       "      <td>https://sa.aqar.fm/%D9%81%D9%84%D9%84-%D9%84%D...</td>\n",
       "    </tr>\n",
       "  </tbody>\n",
       "</table>\n",
       "<p>1575 rows × 6 columns</p>\n",
       "</div>"
      ],
      "text/plain": [
       "      LOCATION    PRICE  SIZE  BATH  BED  \\\n",
       "0            9   750000   240     5    7   \n",
       "1           88  1100000   330     4    5   \n",
       "2            9   880000   230     5    5   \n",
       "3           91  3700000   428     5    6   \n",
       "4           70  7900000   870     5    7   \n",
       "...        ...      ...   ...   ...  ...   \n",
       "1570        76  3700000   375     5    5   \n",
       "1571         5  1400000   456     5    7   \n",
       "1572        44  8000000  1144     5    5   \n",
       "1573        72  1300000   360     5    1   \n",
       "1574         5  1300000   312     5    5   \n",
       "\n",
       "                                                   LINK  \n",
       "0     https://sa.aqar.fm/%D9%81%D9%84%D9%84-%D9%84%D...  \n",
       "1     https://sa.aqar.fm/%D9%81%D9%84%D9%84-%D9%84%D...  \n",
       "2     https://sa.aqar.fm/%D9%81%D9%84%D9%84-%D9%84%D...  \n",
       "3     https://sa.aqar.fm/%D9%81%D9%84%D9%84-%D9%84%D...  \n",
       "4     https://sa.aqar.fm/%D9%81%D9%84%D9%84-%D9%84%D...  \n",
       "...                                                 ...  \n",
       "1570  https://sa.aqar.fm/%D9%81%D9%84%D9%84-%D9%84%D...  \n",
       "1571  https://sa.aqar.fm/%D9%81%D9%84%D9%84-%D9%84%D...  \n",
       "1572  https://sa.aqar.fm/%D9%81%D9%84%D9%84-%D9%84%D...  \n",
       "1573  https://sa.aqar.fm/%D9%81%D9%84%D9%84-%D9%84%D...  \n",
       "1574  https://sa.aqar.fm/%D9%81%D9%84%D9%84-%D9%84%D...  \n",
       "\n",
       "[1575 rows x 6 columns]"
      ]
     },
     "execution_count": 49,
     "metadata": {},
     "output_type": "execute_result"
    }
   ],
   "source": [
    "df"
   ]
  },
  {
   "cell_type": "code",
   "execution_count": 50,
   "id": "199d4942",
   "metadata": {},
   "outputs": [],
   "source": [
    "X1 = X.copy()"
   ]
  },
  {
   "cell_type": "code",
   "execution_count": 51,
   "id": "5f360621",
   "metadata": {},
   "outputs": [],
   "source": [
    "X1[\"LOCATION\"] = df[\"LOCATION\"]"
   ]
  },
  {
   "cell_type": "code",
   "execution_count": 52,
   "id": "dca84652",
   "metadata": {},
   "outputs": [],
   "source": [
    "X_train, X_val, y_train, y_val = train_test_split(X1, y, test_size = 0.2, random_state = 42)"
   ]
  },
  {
   "cell_type": "code",
   "execution_count": 53,
   "id": "df2bc8bf",
   "metadata": {},
   "outputs": [
    {
     "data": {
      "text/plain": [
       "0.7651587992588396"
      ]
     },
     "execution_count": 53,
     "metadata": {},
     "output_type": "execute_result"
    }
   ],
   "source": [
    "lm_1 = LinearRegression()\n",
    "lm_1.fit(X_train,y_train)\n",
    "lm_1.score(X_train,y_train)"
   ]
  },
  {
   "cell_type": "code",
   "execution_count": 54,
   "id": "db4bc03a",
   "metadata": {},
   "outputs": [
    {
     "data": {
      "text/plain": [
       "0.5939534044435513"
      ]
     },
     "execution_count": 54,
     "metadata": {},
     "output_type": "execute_result"
    }
   ],
   "source": [
    "lm_1.score(X_val,y_val)"
   ]
  },
  {
   "cell_type": "markdown",
   "id": "a3828ea8",
   "metadata": {},
   "source": [
    "2. Polynomial"
   ]
  },
  {
   "cell_type": "code",
   "execution_count": 55,
   "id": "064d5513",
   "metadata": {},
   "outputs": [],
   "source": [
    "X2 = X.copy()"
   ]
  },
  {
   "cell_type": "code",
   "execution_count": 56,
   "id": "d0c12a23",
   "metadata": {},
   "outputs": [
    {
     "data": {
      "text/html": [
       "<div>\n",
       "<style scoped>\n",
       "    .dataframe tbody tr th:only-of-type {\n",
       "        vertical-align: middle;\n",
       "    }\n",
       "\n",
       "    .dataframe tbody tr th {\n",
       "        vertical-align: top;\n",
       "    }\n",
       "\n",
       "    .dataframe thead th {\n",
       "        text-align: right;\n",
       "    }\n",
       "</style>\n",
       "<table border=\"1\" class=\"dataframe\">\n",
       "  <thead>\n",
       "    <tr style=\"text-align: right;\">\n",
       "      <th></th>\n",
       "      <th>SIZE</th>\n",
       "      <th>BATH</th>\n",
       "      <th>BED</th>\n",
       "    </tr>\n",
       "  </thead>\n",
       "  <tbody>\n",
       "    <tr>\n",
       "      <th>0</th>\n",
       "      <td>240</td>\n",
       "      <td>5</td>\n",
       "      <td>7</td>\n",
       "    </tr>\n",
       "    <tr>\n",
       "      <th>1</th>\n",
       "      <td>330</td>\n",
       "      <td>4</td>\n",
       "      <td>5</td>\n",
       "    </tr>\n",
       "    <tr>\n",
       "      <th>2</th>\n",
       "      <td>230</td>\n",
       "      <td>5</td>\n",
       "      <td>5</td>\n",
       "    </tr>\n",
       "    <tr>\n",
       "      <th>3</th>\n",
       "      <td>428</td>\n",
       "      <td>5</td>\n",
       "      <td>6</td>\n",
       "    </tr>\n",
       "    <tr>\n",
       "      <th>4</th>\n",
       "      <td>870</td>\n",
       "      <td>5</td>\n",
       "      <td>7</td>\n",
       "    </tr>\n",
       "    <tr>\n",
       "      <th>...</th>\n",
       "      <td>...</td>\n",
       "      <td>...</td>\n",
       "      <td>...</td>\n",
       "    </tr>\n",
       "    <tr>\n",
       "      <th>1570</th>\n",
       "      <td>375</td>\n",
       "      <td>5</td>\n",
       "      <td>5</td>\n",
       "    </tr>\n",
       "    <tr>\n",
       "      <th>1571</th>\n",
       "      <td>456</td>\n",
       "      <td>5</td>\n",
       "      <td>7</td>\n",
       "    </tr>\n",
       "    <tr>\n",
       "      <th>1572</th>\n",
       "      <td>1144</td>\n",
       "      <td>5</td>\n",
       "      <td>5</td>\n",
       "    </tr>\n",
       "    <tr>\n",
       "      <th>1573</th>\n",
       "      <td>360</td>\n",
       "      <td>5</td>\n",
       "      <td>1</td>\n",
       "    </tr>\n",
       "    <tr>\n",
       "      <th>1574</th>\n",
       "      <td>312</td>\n",
       "      <td>5</td>\n",
       "      <td>5</td>\n",
       "    </tr>\n",
       "  </tbody>\n",
       "</table>\n",
       "<p>1575 rows × 3 columns</p>\n",
       "</div>"
      ],
      "text/plain": [
       "      SIZE  BATH  BED\n",
       "0      240     5    7\n",
       "1      330     4    5\n",
       "2      230     5    5\n",
       "3      428     5    6\n",
       "4      870     5    7\n",
       "...    ...   ...  ...\n",
       "1570   375     5    5\n",
       "1571   456     5    7\n",
       "1572  1144     5    5\n",
       "1573   360     5    1\n",
       "1574   312     5    5\n",
       "\n",
       "[1575 rows x 3 columns]"
      ]
     },
     "execution_count": 56,
     "metadata": {},
     "output_type": "execute_result"
    }
   ],
   "source": [
    "X2"
   ]
  },
  {
   "cell_type": "code",
   "execution_count": 57,
   "id": "4be50ce9",
   "metadata": {},
   "outputs": [],
   "source": [
    "#adding polynomial terms\n",
    "X2[\"SIZE_2\"] = X2['SIZE'] ** 2\n",
    "X2[\"LOCATION_2\"] = X1['LOCATION'] ** 2"
   ]
  },
  {
   "cell_type": "code",
   "execution_count": 58,
   "id": "b5184c80",
   "metadata": {},
   "outputs": [],
   "source": [
    "X_train, X_val, y_train, y_val = train_test_split(X2, y, test_size = 0.2, random_state = 42)"
   ]
  },
  {
   "cell_type": "code",
   "execution_count": 59,
   "id": "a866d600",
   "metadata": {},
   "outputs": [
    {
     "data": {
      "text/plain": [
       "(315, 5)"
      ]
     },
     "execution_count": 59,
     "metadata": {},
     "output_type": "execute_result"
    }
   ],
   "source": [
    "X_val.shape"
   ]
  },
  {
   "cell_type": "code",
   "execution_count": 60,
   "id": "c963ae88",
   "metadata": {},
   "outputs": [
    {
     "data": {
      "text/plain": [
       "(315,)"
      ]
     },
     "execution_count": 60,
     "metadata": {},
     "output_type": "execute_result"
    }
   ],
   "source": [
    "y_val.shape"
   ]
  },
  {
   "cell_type": "code",
   "execution_count": 61,
   "id": "e8c985c3",
   "metadata": {},
   "outputs": [
    {
     "data": {
      "text/plain": [
       "0.8255597896871572"
      ]
     },
     "execution_count": 61,
     "metadata": {},
     "output_type": "execute_result"
    }
   ],
   "source": [
    "lm_1 = LinearRegression()\n",
    "lm_1.fit(X_train,y_train)\n",
    "lm_1.score(X_train,y_train)"
   ]
  },
  {
   "cell_type": "code",
   "execution_count": 62,
   "id": "965a095c",
   "metadata": {},
   "outputs": [
    {
     "data": {
      "text/plain": [
       "-0.09339392847076322"
      ]
     },
     "execution_count": 62,
     "metadata": {},
     "output_type": "execute_result"
    }
   ],
   "source": [
    "lm_1.score(X_val,y_val)"
   ]
  },
  {
   "cell_type": "markdown",
   "id": "54fd4dd4",
   "metadata": {},
   "source": [
    "3. Feature enginering \" Adding intreaction terms \""
   ]
  },
  {
   "cell_type": "code",
   "execution_count": 63,
   "id": "2a4a0a29",
   "metadata": {},
   "outputs": [],
   "source": [
    "X3 = X.copy()"
   ]
  },
  {
   "cell_type": "code",
   "execution_count": 64,
   "id": "a427ff80",
   "metadata": {},
   "outputs": [
    {
     "data": {
      "text/html": [
       "<div>\n",
       "<style scoped>\n",
       "    .dataframe tbody tr th:only-of-type {\n",
       "        vertical-align: middle;\n",
       "    }\n",
       "\n",
       "    .dataframe tbody tr th {\n",
       "        vertical-align: top;\n",
       "    }\n",
       "\n",
       "    .dataframe thead th {\n",
       "        text-align: right;\n",
       "    }\n",
       "</style>\n",
       "<table border=\"1\" class=\"dataframe\">\n",
       "  <thead>\n",
       "    <tr style=\"text-align: right;\">\n",
       "      <th></th>\n",
       "      <th>SIZE</th>\n",
       "      <th>BATH</th>\n",
       "      <th>BED</th>\n",
       "    </tr>\n",
       "  </thead>\n",
       "  <tbody>\n",
       "    <tr>\n",
       "      <th>0</th>\n",
       "      <td>240</td>\n",
       "      <td>5</td>\n",
       "      <td>7</td>\n",
       "    </tr>\n",
       "    <tr>\n",
       "      <th>1</th>\n",
       "      <td>330</td>\n",
       "      <td>4</td>\n",
       "      <td>5</td>\n",
       "    </tr>\n",
       "    <tr>\n",
       "      <th>2</th>\n",
       "      <td>230</td>\n",
       "      <td>5</td>\n",
       "      <td>5</td>\n",
       "    </tr>\n",
       "    <tr>\n",
       "      <th>3</th>\n",
       "      <td>428</td>\n",
       "      <td>5</td>\n",
       "      <td>6</td>\n",
       "    </tr>\n",
       "    <tr>\n",
       "      <th>4</th>\n",
       "      <td>870</td>\n",
       "      <td>5</td>\n",
       "      <td>7</td>\n",
       "    </tr>\n",
       "    <tr>\n",
       "      <th>...</th>\n",
       "      <td>...</td>\n",
       "      <td>...</td>\n",
       "      <td>...</td>\n",
       "    </tr>\n",
       "    <tr>\n",
       "      <th>1570</th>\n",
       "      <td>375</td>\n",
       "      <td>5</td>\n",
       "      <td>5</td>\n",
       "    </tr>\n",
       "    <tr>\n",
       "      <th>1571</th>\n",
       "      <td>456</td>\n",
       "      <td>5</td>\n",
       "      <td>7</td>\n",
       "    </tr>\n",
       "    <tr>\n",
       "      <th>1572</th>\n",
       "      <td>1144</td>\n",
       "      <td>5</td>\n",
       "      <td>5</td>\n",
       "    </tr>\n",
       "    <tr>\n",
       "      <th>1573</th>\n",
       "      <td>360</td>\n",
       "      <td>5</td>\n",
       "      <td>1</td>\n",
       "    </tr>\n",
       "    <tr>\n",
       "      <th>1574</th>\n",
       "      <td>312</td>\n",
       "      <td>5</td>\n",
       "      <td>5</td>\n",
       "    </tr>\n",
       "  </tbody>\n",
       "</table>\n",
       "<p>1575 rows × 3 columns</p>\n",
       "</div>"
      ],
      "text/plain": [
       "      SIZE  BATH  BED\n",
       "0      240     5    7\n",
       "1      330     4    5\n",
       "2      230     5    5\n",
       "3      428     5    6\n",
       "4      870     5    7\n",
       "...    ...   ...  ...\n",
       "1570   375     5    5\n",
       "1571   456     5    7\n",
       "1572  1144     5    5\n",
       "1573   360     5    1\n",
       "1574   312     5    5\n",
       "\n",
       "[1575 rows x 3 columns]"
      ]
     },
     "execution_count": 64,
     "metadata": {},
     "output_type": "execute_result"
    }
   ],
   "source": [
    "X3"
   ]
  },
  {
   "cell_type": "code",
   "execution_count": 65,
   "id": "95d84c11",
   "metadata": {},
   "outputs": [],
   "source": [
    "# multiplicative interaction\n",
    "X3[\"LOCATIONxSIZE\"] = X1['LOCATION'] * X3['SIZE']\n",
    "\n",
    "# division interaction\n",
    "X3[\"LOCATION/BED\"] = X1['LOCATION'] / X3['BED']"
   ]
  },
  {
   "cell_type": "code",
   "execution_count": 66,
   "id": "e5ca75d2",
   "metadata": {},
   "outputs": [],
   "source": [
    "X_train, X_val, y_train, y_val = train_test_split(X3, y, test_size = 0.2, random_state = 42)"
   ]
  },
  {
   "cell_type": "code",
   "execution_count": 67,
   "id": "453aee82",
   "metadata": {},
   "outputs": [
    {
     "data": {
      "text/plain": [
       "0.7763914554900057"
      ]
     },
     "execution_count": 67,
     "metadata": {},
     "output_type": "execute_result"
    }
   ],
   "source": [
    "lm_1 = LinearRegression()\n",
    "lm_1.fit(X_train,y_train)\n",
    "lm_1.score(X_train,y_train)"
   ]
  },
  {
   "cell_type": "code",
   "execution_count": 68,
   "id": "b7cedfbb",
   "metadata": {},
   "outputs": [
    {
     "data": {
      "text/plain": [
       "0.6429060971161897"
      ]
     },
     "execution_count": 68,
     "metadata": {},
     "output_type": "execute_result"
    }
   ],
   "source": [
    "lm_1.score(X_val,y_val)"
   ]
  },
  {
   "cell_type": "markdown",
   "id": "9811f155",
   "metadata": {},
   "source": [
    "# LASSO"
   ]
  },
  {
   "cell_type": "code",
   "execution_count": 69,
   "id": "f3be2a42",
   "metadata": {},
   "outputs": [
    {
     "data": {
      "text/html": [
       "<div>\n",
       "<style scoped>\n",
       "    .dataframe tbody tr th:only-of-type {\n",
       "        vertical-align: middle;\n",
       "    }\n",
       "\n",
       "    .dataframe tbody tr th {\n",
       "        vertical-align: top;\n",
       "    }\n",
       "\n",
       "    .dataframe thead th {\n",
       "        text-align: right;\n",
       "    }\n",
       "</style>\n",
       "<table border=\"1\" class=\"dataframe\">\n",
       "  <thead>\n",
       "    <tr style=\"text-align: right;\">\n",
       "      <th></th>\n",
       "      <th>SIZE</th>\n",
       "      <th>BATH</th>\n",
       "      <th>BED</th>\n",
       "      <th>LOCATIONxSIZE</th>\n",
       "      <th>LOCATION/BED</th>\n",
       "    </tr>\n",
       "  </thead>\n",
       "  <tbody>\n",
       "    <tr>\n",
       "      <th>1043</th>\n",
       "      <td>360</td>\n",
       "      <td>5</td>\n",
       "      <td>5</td>\n",
       "      <td>13680</td>\n",
       "      <td>7.600000</td>\n",
       "    </tr>\n",
       "    <tr>\n",
       "      <th>277</th>\n",
       "      <td>560</td>\n",
       "      <td>5</td>\n",
       "      <td>4</td>\n",
       "      <td>21280</td>\n",
       "      <td>9.500000</td>\n",
       "    </tr>\n",
       "    <tr>\n",
       "      <th>1225</th>\n",
       "      <td>220</td>\n",
       "      <td>5</td>\n",
       "      <td>5</td>\n",
       "      <td>12540</td>\n",
       "      <td>11.400000</td>\n",
       "    </tr>\n",
       "    <tr>\n",
       "      <th>1188</th>\n",
       "      <td>325</td>\n",
       "      <td>5</td>\n",
       "      <td>6</td>\n",
       "      <td>19500</td>\n",
       "      <td>10.000000</td>\n",
       "    </tr>\n",
       "    <tr>\n",
       "      <th>1554</th>\n",
       "      <td>240</td>\n",
       "      <td>5</td>\n",
       "      <td>7</td>\n",
       "      <td>2160</td>\n",
       "      <td>1.285714</td>\n",
       "    </tr>\n",
       "    <tr>\n",
       "      <th>...</th>\n",
       "      <td>...</td>\n",
       "      <td>...</td>\n",
       "      <td>...</td>\n",
       "      <td>...</td>\n",
       "      <td>...</td>\n",
       "    </tr>\n",
       "    <tr>\n",
       "      <th>1130</th>\n",
       "      <td>370</td>\n",
       "      <td>5</td>\n",
       "      <td>7</td>\n",
       "      <td>9990</td>\n",
       "      <td>3.857143</td>\n",
       "    </tr>\n",
       "    <tr>\n",
       "      <th>1294</th>\n",
       "      <td>390</td>\n",
       "      <td>5</td>\n",
       "      <td>5</td>\n",
       "      <td>31590</td>\n",
       "      <td>16.200000</td>\n",
       "    </tr>\n",
       "    <tr>\n",
       "      <th>860</th>\n",
       "      <td>312</td>\n",
       "      <td>5</td>\n",
       "      <td>5</td>\n",
       "      <td>4056</td>\n",
       "      <td>2.600000</td>\n",
       "    </tr>\n",
       "    <tr>\n",
       "      <th>1459</th>\n",
       "      <td>379</td>\n",
       "      <td>4</td>\n",
       "      <td>5</td>\n",
       "      <td>23877</td>\n",
       "      <td>12.600000</td>\n",
       "    </tr>\n",
       "    <tr>\n",
       "      <th>1126</th>\n",
       "      <td>312</td>\n",
       "      <td>5</td>\n",
       "      <td>5</td>\n",
       "      <td>25272</td>\n",
       "      <td>16.200000</td>\n",
       "    </tr>\n",
       "  </tbody>\n",
       "</table>\n",
       "<p>1260 rows × 5 columns</p>\n",
       "</div>"
      ],
      "text/plain": [
       "      SIZE  BATH  BED  LOCATIONxSIZE  LOCATION/BED\n",
       "1043   360     5    5          13680      7.600000\n",
       "277    560     5    4          21280      9.500000\n",
       "1225   220     5    5          12540     11.400000\n",
       "1188   325     5    6          19500     10.000000\n",
       "1554   240     5    7           2160      1.285714\n",
       "...    ...   ...  ...            ...           ...\n",
       "1130   370     5    7           9990      3.857143\n",
       "1294   390     5    5          31590     16.200000\n",
       "860    312     5    5           4056      2.600000\n",
       "1459   379     4    5          23877     12.600000\n",
       "1126   312     5    5          25272     16.200000\n",
       "\n",
       "[1260 rows x 5 columns]"
      ]
     },
     "execution_count": 69,
     "metadata": {},
     "output_type": "execute_result"
    }
   ],
   "source": [
    "X_train"
   ]
  },
  {
   "cell_type": "code",
   "execution_count": 70,
   "id": "1439c4f7",
   "metadata": {},
   "outputs": [
    {
     "data": {
      "text/plain": [
       "Lasso(alpha=0.02)"
      ]
     },
     "execution_count": 70,
     "metadata": {},
     "output_type": "execute_result"
    }
   ],
   "source": [
    "lasso_model = Lasso(alpha = 0.02)\n",
    "lasso_model.fit(X_train,y_train)"
   ]
  },
  {
   "cell_type": "code",
   "execution_count": 71,
   "id": "6f6454ff",
   "metadata": {},
   "outputs": [
    {
     "data": {
      "text/plain": [
       "[('SIZE', 6563.16227428432),\n",
       " ('BATH', 54077.22914222968),\n",
       " ('BED', -142438.10797010432),\n",
       " ('LOCATIONxSIZE', 29.65513268607663),\n",
       " ('LOCATION/BED', -31130.84185499098)]"
      ]
     },
     "execution_count": 71,
     "metadata": {},
     "output_type": "execute_result"
    }
   ],
   "source": [
    "list(zip(X_train.columns, lasso_model.coef_))"
   ]
  },
  {
   "cell_type": "code",
   "execution_count": 72,
   "id": "d9fb270d",
   "metadata": {},
   "outputs": [
    {
     "data": {
      "text/plain": [
       "0.7763914554900053"
      ]
     },
     "execution_count": 72,
     "metadata": {},
     "output_type": "execute_result"
    }
   ],
   "source": [
    "lasso_model.score(X_train,y_train)"
   ]
  },
  {
   "cell_type": "code",
   "execution_count": 73,
   "id": "5601bd4a",
   "metadata": {},
   "outputs": [
    {
     "data": {
      "text/plain": [
       "0.6429060965596155"
      ]
     },
     "execution_count": 73,
     "metadata": {},
     "output_type": "execute_result"
    }
   ],
   "source": [
    "lasso_model.score(X_val,y_val)"
   ]
  },
  {
   "cell_type": "markdown",
   "id": "2cd289f6",
   "metadata": {},
   "source": [
    "### Ridge"
   ]
  },
  {
   "cell_type": "code",
   "execution_count": 74,
   "id": "9d98c8f4",
   "metadata": {},
   "outputs": [
    {
     "data": {
      "text/plain": [
       "StandardScaler()"
      ]
     },
     "execution_count": 74,
     "metadata": {},
     "output_type": "execute_result"
    }
   ],
   "source": [
    "from sklearn.preprocessing import StandardScaler\n",
    "std=StandardScaler()\n",
    "std.fit(X_train.values)"
   ]
  },
  {
   "cell_type": "code",
   "execution_count": 75,
   "id": "1e553268",
   "metadata": {},
   "outputs": [],
   "source": [
    "X_tr=std.transform(X_train.values)\n",
    "X_val_std=std.transform(X_val.values)"
   ]
  },
  {
   "cell_type": "code",
   "execution_count": 76,
   "id": "bf83f9a2",
   "metadata": {},
   "outputs": [
    {
     "data": {
      "text/plain": [
       "Ridge(alpha=200)"
      ]
     },
     "execution_count": 76,
     "metadata": {},
     "output_type": "execute_result"
    }
   ],
   "source": [
    "lr_model_ridge = Ridge(alpha = 200)\n",
    "lr_model_ridge.fit(X_tr, y_train)"
   ]
  },
  {
   "cell_type": "code",
   "execution_count": 77,
   "id": "60fd58c7",
   "metadata": {},
   "outputs": [
    {
     "data": {
      "text/plain": [
       "0.7670120042093629"
      ]
     },
     "execution_count": 77,
     "metadata": {},
     "output_type": "execute_result"
    }
   ],
   "source": [
    "lr_model_ridge.score(X_tr,y_train)"
   ]
  },
  {
   "cell_type": "code",
   "execution_count": 78,
   "id": "0de60046",
   "metadata": {},
   "outputs": [
    {
     "data": {
      "text/plain": [
       "0.7255877358144549"
      ]
     },
     "execution_count": 78,
     "metadata": {},
     "output_type": "execute_result"
    }
   ],
   "source": [
    "lr_model_ridge.score(X_val_std,y_val)"
   ]
  },
  {
   "cell_type": "code",
   "execution_count": 79,
   "id": "47f6348e",
   "metadata": {},
   "outputs": [],
   "source": [
    "from sklearn.model_selection import GridSearchCV"
   ]
  },
  {
   "cell_type": "code",
   "execution_count": 80,
   "id": "9966cad2",
   "metadata": {},
   "outputs": [],
   "source": [
    "ridge_params = {'alpha':[130, 132, 135, 129, 127]}"
   ]
  },
  {
   "cell_type": "code",
   "execution_count": 81,
   "id": "1ff58ee8",
   "metadata": {},
   "outputs": [],
   "source": [
    "ridge_grid = GridSearchCV(Ridge(), param_grid=ridge_params).fit(X_tr, y_train)"
   ]
  },
  {
   "cell_type": "code",
   "execution_count": 82,
   "id": "290d8de5",
   "metadata": {},
   "outputs": [
    {
     "data": {
      "text/plain": [
       "Ridge(alpha=127)"
      ]
     },
     "execution_count": 82,
     "metadata": {},
     "output_type": "execute_result"
    }
   ],
   "source": [
    "ridge_grid.best_estimator_"
   ]
  },
  {
   "cell_type": "code",
   "execution_count": 83,
   "id": "840c8af0",
   "metadata": {},
   "outputs": [
    {
     "data": {
      "text/plain": [
       "0.7008436933741595"
      ]
     },
     "execution_count": 83,
     "metadata": {},
     "output_type": "execute_result"
    }
   ],
   "source": [
    "ridge_grid.best_score_"
   ]
  },
  {
   "cell_type": "code",
   "execution_count": null,
   "id": "e3c73d81",
   "metadata": {},
   "outputs": [],
   "source": []
  }
 ],
 "metadata": {
  "kernelspec": {
   "display_name": "Python 3",
   "language": "python",
   "name": "python3"
  },
  "language_info": {
   "codemirror_mode": {
    "name": "ipython",
    "version": 3
   },
   "file_extension": ".py",
   "mimetype": "text/x-python",
   "name": "python",
   "nbconvert_exporter": "python",
   "pygments_lexer": "ipython3",
   "version": "3.8.8"
  }
 },
 "nbformat": 4,
 "nbformat_minor": 5
}
